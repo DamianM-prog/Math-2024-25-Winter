{
  "cells": [
    {
      "cell_type": "markdown",
      "metadata": {
        "id": "view-in-github",
        "colab_type": "text"
      },
      "source": [
        "<a href=\"https://colab.research.google.com/github/DamianM-prog/Math-2024-25-Winter/blob/main/Notebooks_EN/00_Introduction/What_is_an_equation.ipynb\" target=\"_parent\"><img src=\"https://colab.research.google.com/assets/colab-badge.svg\" alt=\"Open In Colab\"/></a>"
      ]
    },
    {
      "cell_type": "markdown",
      "metadata": {
        "id": "35yPHoIN8UpM"
      },
      "source": [
        "## Definition of an Equation\n",
        "\n",
        "An **equation** in mathematics is a formal expression that states that two values or expressions are equal. It consists of two parts: the left-hand side and the right-hand side, separated by an equals sign \"=\".\n",
        "\n",
        "Solving equations involves finding the values of the variables (called unknowns) that make the equation true.\n",
        "\n",
        "\n",
        "**Example 1**\n",
        "\n",
        "Consider the equation $2x + 3 = 7$. In this case, we have one variable $x$. When solving the equation, we want to find the value of $x$ for which the left-hand side is equal to the right-hand side. The solution of the equation is the set\n",
        "\n",
        "$$\n",
        "\\{x \\in \\mathbb{R} : 2x + 3 = 7\\} = \\{x \\in \\mathbb{R} : x = 2\\}= \\{2\\}\n",
        "$$\n",
        "\n",
        "where\n",
        "\n",
        "1. **$\\{x \\in \\mathbb{R} : 2x + 3 = 7\\}$**  \n",
        "   Read as:  \n",
        "   \"The set of all $x$ belonging to real numbers for which $2x + 3 = 7$.\"\n",
        "\n",
        "2. **$\\{x \\in \\mathbb{R} : x = 2\\}$**  \n",
        "   Read as:  \n",
        "   \"The set of all $x$ belonging to real numbers for which $x = 2$.\"\n",
        "\n",
        "3. **$\\{2\\}$**  \n",
        "   Read as:  \n",
        "   \"The set containing only the number 2.\"\n",
        "\n",
        "Thus, the entire construction shows that the solution to the equation $2x + 3 = 7$ is the number $x = 2$, which we write as the singleton set $\\{2\\}$.\n",
        "\n",
        "\n",
        "**Example 2**\n",
        "\n",
        "Consider the equation $x^2 - 4 = 0$. In this case, we have one variable $x$. When solving the equation, we want to find the value of $x$ for which the left-hand side is equal to the right-hand side. The solution of the equation is the set\n",
        "\n",
        "$$\n",
        "\\{x \\in \\mathbb{R} : x^2 - 4 = 0\\}= \\{x \\in \\mathbb{R} : x^2 = 4\\} = \\{x \\in \\mathbb{R} : x = 2 \\lor x = -2\\} = \\{2, -2\\}\n",
        "$$\n",
        "\n",
        "where\n",
        "\n",
        "1. **$\\{x \\in \\mathbb{R} : x^2 - 4 = 0\\}$**  \n",
        "   Read as:  \n",
        "   \"The set of all $x$ belonging to real numbers for which $x^2 - 4 = 0$.\"\n",
        "\n",
        "2. **$\\{x \\in \\mathbb{R} : x^2 = 4\\}$**  \n",
        "   Read as:  \n",
        "   \"The set of all $x$ belonging to real numbers for which $x^2 = 4$.\"\n",
        "\n",
        "3. **$\\{x \\in \\mathbb{R} : x = 2 \\lor x = -2\\}$**  \n",
        "   Read as:  \n",
        "   \"The set of all $x$ belonging to real numbers for which $x = 2$ or $x = -2$.\"\n",
        "\n",
        "4. **$\\{2, -2\\}$**  \n",
        "   Read as:  \n",
        "   \"The set containing the numbers 2 and -2.\"\n",
        "\n",
        "Thus, the entire construction shows that the solution to the equation $x^2 - 4 = 0$ is the numbers $x = 2$ and $x = -2$, which we write as the set $\\{2, -2\\}$.\n",
        "\n",
        "\n",
        "**Example 3**\n",
        "\n",
        "Consider the line given by the equation $y = 2x + 1$. In this case, we have two variables $x$ and $y$. When solving the equation, we want to find the values of $x$ and $y$ for which the left-hand side is equal to the right-hand side. The solution of the equation is the set\n",
        "\n",
        "$$\n",
        "\\{(x, y) \\in \\mathbb{R}^2 : (x \\in \\mathbb{R}) \\land (y = 2x + 1)\\} = \\{(x, 2x + 1) : x \\in \\mathbb{R}\\}\n",
        "$$\n",
        "\n",
        "where\n",
        "\n",
        "1. **$\\{(x, y) \\in \\mathbb{R}^2 : (x \\in \\mathbb{R}) \\land (y = 2x + 1)\\}$**  \n",
        "   Read as:  \n",
        "   \"The set of all pairs $(x, y)$ belonging to the plane $\\mathbb{R}^2$, where $x$ is a real number and $y = 2x + 1$.\"\n",
        "\n",
        "2. **$\\{(x, 2x + 1) : x \\in \\mathbb{R}\\}$**  \n",
        "   Read as:  \n",
        "   \"The set of all pairs of the form $(x, 2x + 1)$, where $x$ belongs to real numbers.\"\n",
        "\n",
        "Thus, the entire construction shows that the set of points $(x, y)$ that satisfy the equation $y = 2x + 1$ can be described as the set of pairs of the form $(x, 2x + 1)$, where $x$ is a real number.\n",
        "\n",
        "\n",
        "**Example 4**\n",
        "\n",
        "Sometimes we deal with implicit equations $F(x,y)$ that cannot be written in the form $y = f(x)$ or $x = f(y)$. Solving such an equation, as above, involves finding all pairs $(x, y)$ that satisfy the equation $F(x, y)$, which we write as\n",
        "\n",
        "$$\n",
        "\\{(x, y) \\in \\mathbb{R}^2 : F(x, y) = 0\\}\n",
        "$$\n",
        "\n",
        "The equation of a circle $x^2 + y^2 = 1$ is an example of an implicit equation. Let's find its solution. Consider the following equalities\n",
        "\n",
        "$$\n",
        "\\begin{cases}\n",
        "y_1=+\\sqrt{1-x^2}\\quad \\text{where } x\\in[-1,1]\\\\\n",
        "y_2=-\\sqrt{1-x^2}\\quad \\text{where } x\\in[-1,1]\\\\\n",
        "\\end{cases}\n",
        "$$\n",
        "\n",
        "We see that $y_1^2 = 1 - x^2$ and $y_2^2 = 1 - x^2$. This means that $y_1$ and $y_2$ satisfy the equation $x^2 + y^2 = 1$. Hence, the solution to the equation $x^2 + y^2 = 1$ is the set\n",
        "\n",
        "$$\n",
        "\\{(x, y) \\in \\mathbb{R}^2 : x^2 + y^2 = 1\\} = \\{(x, \\sqrt{1-x^2}) : x \\in [-1, 1]\\}\\cup\\{(x,-\\sqrt{1-x^2}) : x \\in [-1, 1]\\}\n",
        "$$\n",
        "\n",
        "1. **$\\{(x, y) \\in \\mathbb{R}^2 : x^2 + y^2 = 1\\}$**  \n",
        "   Read as:  \n",
        "   \"The set of all pairs $(x, y)$ belonging to the plane $\\mathbb{R}^2$, for which $x^2 + y^2 = 1$. This is the equation of a circle with radius 1 and center at $(0, 0)$.\"\n",
        "\n",
        "2. **$\\{(x, \\sqrt{1 - x^2}) : x \\in [-1, 1]\\}$**  \n",
        "   Read as:  \n",
        "   \"The set of all pairs of the form $(x, \\sqrt{1 - x^2})$, where $x$ belongs to the interval $[-1, 1]$. This is the upper semicircle.\"\n",
        "\n",
        "3. **$\\{(x, -\\sqrt{1 - x^2}) : x \\in [-1, 1]\\}$**  \n",
        "   Read as:  \n",
        "   \"The set of all pairs of the form $(x, -\\sqrt{1 - x^2})$, where $x$ belongs to the interval $[-1, 1]$. This is the lower semicircle.\"\n",
        "\n",
        "Thus, the entire construction shows that the set of points $(x, y)$ that satisfy the equation of the circle $x^2 + y^2 = 1$ can be described as the union of the sets: the upper semicircle $\\{(x, \\sqrt{1 - x^2})\\}$ and the lower semicircle $\\{(x, -\\sqrt{1 - x^2})\\}$, where $x$ belongs to the interval $[-1, 1]$.\n",
        "\n",
        "# Now we will see how we can manipulate equations in Python"
      ]
    },
    {
      "cell_type": "code",
      "execution_count": 1,
      "metadata": {
        "id": "koWCq9U98UpO",
        "outputId": "8445dbf0-662e-42ce-d9a8-7b2ece5397f7",
        "colab": {
          "base_uri": "https://localhost:8080/",
          "height": 166
        }
      },
      "outputs": [
        {
          "output_type": "error",
          "ename": "NameError",
          "evalue": "name 'z' is not defined",
          "traceback": [
            "\u001b[0;31m---------------------------------------------------------------------------\u001b[0m",
            "\u001b[0;31mNameError\u001b[0m                                 Traceback (most recent call last)",
            "\u001b[0;32m<ipython-input-1-c7c56d21c197>\u001b[0m in \u001b[0;36m<cell line: 2>\u001b[0;34m()\u001b[0m\n\u001b[1;32m      1\u001b[0m \u001b[0;31m# If we refer to an undefined variable in a function, Python will return an error\u001b[0m\u001b[0;34m\u001b[0m\u001b[0;34m\u001b[0m\u001b[0m\n\u001b[0;32m----> 2\u001b[0;31m \u001b[0mz\u001b[0m\u001b[0;34m\u001b[0m\u001b[0;34m\u001b[0m\u001b[0m\n\u001b[0m",
            "\u001b[0;31mNameError\u001b[0m: name 'z' is not defined"
          ]
        }
      ],
      "source": [
        "# If we refer to an undefined variable in a function, Python will return an error\n",
        "z"
      ]
    },
    {
      "cell_type": "code",
      "execution_count": 2,
      "metadata": {
        "id": "Jr_xRO3f8UpO",
        "outputId": "2988bacd-3bda-490d-ade0-5f22d5750551",
        "colab": {
          "base_uri": "https://localhost:8080/"
        }
      },
      "outputs": [
        {
          "output_type": "execute_result",
          "data": {
            "text/plain": [
              "10"
            ]
          },
          "metadata": {},
          "execution_count": 2
        }
      ],
      "source": [
        "# We can define the variable z\n",
        "z = 10 # assign the value 10 to variable z\n",
        "z      # display the value of variable z"
      ]
    },
    {
      "cell_type": "code",
      "execution_count": 3,
      "metadata": {
        "id": "k9HJacl08UpO",
        "outputId": "801b356c-a98e-4d8f-eea7-4813bdede49d",
        "colab": {
          "base_uri": "https://localhost:8080/"
        }
      },
      "outputs": [
        {
          "output_type": "execute_result",
          "data": {
            "text/plain": [
              "11"
            ]
          },
          "metadata": {},
          "execution_count": 3
        }
      ],
      "source": [
        "# We can add 1 to z\n",
        "z = z + 1 # assign the value z+1 to variable z\n",
        "z         # display the value of variable z"
      ]
    },
    {
      "cell_type": "markdown",
      "metadata": {
        "id": "z4VxRgRz8UpP"
      },
      "source": [
        "The problem with this approach is that it does not allow us to manipulate symbols! The above definition assigns a numerical value to the symbol rather than a symbolic one. In Python, we have the `sympy` library available, which allows us to manipulate symbols.\n",
        "\n",
        "Below, we will show some examples of how we can manipulate symbols and equations in Python."
      ]
    },
    {
      "cell_type": "code",
      "execution_count": 4,
      "metadata": {
        "id": "TVpfache8UpP"
      },
      "outputs": [],
      "source": [
        "# First, we import the sympy library (Symbolic Python)\n",
        "import sympy as sp\n",
        "\n",
        "# Define variables x and y as symbols\n",
        "x, y = sp.symbols('x y')"
      ]
    },
    {
      "cell_type": "code",
      "execution_count": 5,
      "metadata": {
        "id": "lxUte92Z8UpP",
        "outputId": "6ef82b2e-796c-4b34-99ee-ac6d9c472a56",
        "colab": {
          "base_uri": "https://localhost:8080/",
          "height": 38
        }
      },
      "outputs": [
        {
          "output_type": "execute_result",
          "data": {
            "text/plain": [
              "x"
            ],
            "text/latex": "$\\displaystyle x$"
          },
          "metadata": {},
          "execution_count": 5
        }
      ],
      "source": [
        "x # x is now a symbol"
      ]
    },
    {
      "cell_type": "code",
      "execution_count": 6,
      "metadata": {
        "id": "yGmEAj1A8UpP",
        "outputId": "8c3b9fb5-9a50-427e-9f4e-d83d45dc7557",
        "colab": {
          "base_uri": "https://localhost:8080/",
          "height": 38
        }
      },
      "outputs": [
        {
          "output_type": "execute_result",
          "data": {
            "text/plain": [
              "x + y"
            ],
            "text/latex": "$\\displaystyle x + y$"
          },
          "metadata": {},
          "execution_count": 6
        }
      ],
      "source": [
        "x + y # Python returns x + y as an expression, not a numerical value"
      ]
    },
    {
      "cell_type": "code",
      "execution_count": 7,
      "metadata": {
        "id": "5-ga6QvE8UpP",
        "outputId": "7e6006d8-1026-4e40-9a5d-efefc2c7a87a",
        "colab": {
          "base_uri": "https://localhost:8080/",
          "height": 39
        }
      },
      "outputs": [
        {
          "output_type": "execute_result",
          "data": {
            "text/plain": [
              "(x + y)**2"
            ],
            "text/latex": "$\\displaystyle \\left(x + y\\right)^{2}$"
          },
          "metadata": {},
          "execution_count": 7
        }
      ],
      "source": [
        "# We can perform more complex operations on variables\n",
        "expr1 = (x + y)**2 # assign the expression (x+y)^2 to variable expr1\n",
        "expr1            # display the value of variable expr1"
      ]
    },
    {
      "cell_type": "code",
      "execution_count": 8,
      "metadata": {
        "id": "I0lcFgVl8UpP",
        "outputId": "7e761984-de45-4177-a750-b75b2cb271f9",
        "colab": {
          "base_uri": "https://localhost:8080/",
          "height": 38
        }
      },
      "outputs": [
        {
          "output_type": "execute_result",
          "data": {
            "text/plain": [
              "x**2 + 2*x*y + y**2"
            ],
            "text/latex": "$\\displaystyle x^{2} + 2 x y + y^{2}$"
          },
          "metadata": {},
          "execution_count": 8
        }
      ],
      "source": [
        "# We can expand the above expression\n",
        "sp.expand(expr1) # the expand command expands the expression"
      ]
    },
    {
      "cell_type": "code",
      "execution_count": 9,
      "metadata": {
        "id": "JHU0G-tf8UpP",
        "outputId": "12ba5911-7f57-4d11-826e-0619f2442aa1",
        "colab": {
          "base_uri": "https://localhost:8080/",
          "height": 39
        }
      },
      "outputs": [
        {
          "output_type": "execute_result",
          "data": {
            "text/plain": [
              "(x + y)**5"
            ],
            "text/latex": "$\\displaystyle \\left(x + y\\right)^{5}$"
          },
          "metadata": {},
          "execution_count": 9
        }
      ],
      "source": [
        "# More complex expression\n",
        "expr2 = (x + y)**5 # assign the expression (x+y)^5 to variable expr2\n",
        "expr2          # display the value of variable expr2"
      ]
    },
    {
      "cell_type": "code",
      "execution_count": 10,
      "metadata": {
        "id": "CUBvV6-d8UpQ",
        "outputId": "6879fd41-e581-400a-8d38-2474a4067906",
        "colab": {
          "base_uri": "https://localhost:8080/",
          "height": 38
        }
      },
      "outputs": [
        {
          "output_type": "execute_result",
          "data": {
            "text/plain": [
              "x**5 + 5*x**4*y + 10*x**3*y**2 + 10*x**2*y**3 + 5*x*y**4 + y**5"
            ],
            "text/latex": "$\\displaystyle x^{5} + 5 x^{4} y + 10 x^{3} y^{2} + 10 x^{2} y^{3} + 5 x y^{4} + y^{5}$"
          },
          "metadata": {},
          "execution_count": 10
        }
      ],
      "source": [
        "expr2_expanded = sp.expand(expr2) # expand the expression\n",
        "expr2_expanded                    # display the value of variable expr2_expanded"
      ]
    },
    {
      "cell_type": "code",
      "execution_count": 11,
      "metadata": {
        "id": "rEDwcaFl8UpQ",
        "outputId": "d6c55111-9e47-4bbd-f591-1a9cc5553aaa",
        "colab": {
          "base_uri": "https://localhost:8080/",
          "height": 38
        }
      },
      "outputs": [
        {
          "output_type": "execute_result",
          "data": {
            "text/plain": [
              "y**5 + 10*y**4 + 40*y**3 + 80*y**2 + 80*y + 32"
            ],
            "text/latex": "$\\displaystyle y^{5} + 10 y^{4} + 40 y^{3} + 80 y^{2} + 80 y + 32$"
          },
          "metadata": {},
          "execution_count": 11
        }
      ],
      "source": [
        "# We can substitute specific values into variables, e.g., x=2\n",
        "expr2_expanded.subs(x, 2)  # subs(x, 2) substitutes x=2 into the expression"
      ]
    },
    {
      "cell_type": "code",
      "execution_count": 12,
      "metadata": {
        "id": "X4_xw1HV8UpQ",
        "outputId": "08703528-b819-4340-fe07-0514ef0cc606",
        "colab": {
          "base_uri": "https://localhost:8080/",
          "height": 38
        }
      },
      "outputs": [
        {
          "output_type": "execute_result",
          "data": {
            "text/plain": [
              "Eq(x**2, 1)"
            ],
            "text/latex": "$\\displaystyle x^{2} = 1$"
          },
          "metadata": {},
          "execution_count": 12
        }
      ],
      "source": [
        "# In sympy, we can define equations!\n",
        "eq1 = sp.Eq(x**2, 1)\n",
        "eq1"
      ]
    },
    {
      "cell_type": "code",
      "execution_count": 13,
      "metadata": {
        "id": "Qd7k9T0d8UpQ",
        "outputId": "5900e2df-eb5e-4a30-f8fc-d66caa1d2e66",
        "colab": {
          "base_uri": "https://localhost:8080/"
        }
      },
      "outputs": [
        {
          "output_type": "execute_result",
          "data": {
            "text/plain": [
              "[-1, 1]"
            ]
          },
          "metadata": {},
          "execution_count": 13
        }
      ],
      "source": [
        "# We can ask for solutions to the equation\n",
        "sol_eq1 = sp.solve(eq1)\n",
        "sol_eq1"
      ]
    },
    {
      "cell_type": "code",
      "execution_count": 14,
      "metadata": {
        "id": "-GhDA2Xo8UpQ",
        "outputId": "9b8ee712-adf6-4098-c732-c03f8a98dd2b",
        "colab": {
          "base_uri": "https://localhost:8080/",
          "height": 38
        }
      },
      "outputs": [
        {
          "output_type": "execute_result",
          "data": {
            "text/plain": [
              "True"
            ],
            "text/latex": "$\\displaystyle \\text{True}$"
          },
          "metadata": {},
          "execution_count": 14
        }
      ],
      "source": [
        "# Check if the first solution satisfies the equation\n",
        "eq1.subs(x, sol_eq1[0]) # substitute the solution into the equation and check if it is satisfied"
      ]
    },
    {
      "cell_type": "code",
      "execution_count": 15,
      "metadata": {
        "id": "L5c0fiYT8UpQ",
        "outputId": "ba58eaf3-438b-48aa-a41d-fcd754ecf123",
        "colab": {
          "base_uri": "https://localhost:8080/",
          "height": 38
        }
      },
      "outputs": [
        {
          "output_type": "execute_result",
          "data": {
            "text/plain": [
              "True"
            ],
            "text/latex": "$\\displaystyle \\text{True}$"
          },
          "metadata": {},
          "execution_count": 15
        }
      ],
      "source": [
        "# Check if the second solution satisfies the equation\n",
        "eq1.subs(x, sol_eq1[1]) # substitute the solution into the equation and check if it is satisfied"
      ]
    },
    {
      "cell_type": "code",
      "execution_count": 16,
      "metadata": {
        "id": "6BlOtN9w8UpQ",
        "outputId": "7bcc38f5-d95d-4c09-ae16-4c8ca6a21f05",
        "colab": {
          "base_uri": "https://localhost:8080/",
          "height": 38
        }
      },
      "outputs": [
        {
          "output_type": "execute_result",
          "data": {
            "text/plain": [
              "Eq(x**2 - 4*x + 3, 0)"
            ],
            "text/latex": "$\\displaystyle x^{2} - 4 x + 3 = 0$"
          },
          "metadata": {},
          "execution_count": 16
        }
      ],
      "source": [
        "# Another example\n",
        "eq2 = sp.Eq(x**2 - 4*x + 3, 0)\n",
        "eq2"
      ]
    },
    {
      "cell_type": "code",
      "execution_count": 17,
      "metadata": {
        "id": "3zjuWyYJ8UpQ",
        "outputId": "bf532944-e984-49bb-8828-ee3add0b44d0",
        "colab": {
          "base_uri": "https://localhost:8080/"
        }
      },
      "outputs": [
        {
          "output_type": "execute_result",
          "data": {
            "text/plain": [
              "[1, 3]"
            ]
          },
          "metadata": {},
          "execution_count": 17
        }
      ],
      "source": [
        "# Solutions of the equation\n",
        "sol_eq2 = sp.solve(eq2)\n",
        "sol_eq2"
      ]
    },
    {
      "cell_type": "code",
      "execution_count": 18,
      "metadata": {
        "id": "P501EQGo8UpR",
        "outputId": "fe1d584b-88d4-4e35-dbdd-2a4e98fa095d",
        "colab": {
          "base_uri": "https://localhost:8080/",
          "height": 38
        }
      },
      "outputs": [
        {
          "output_type": "execute_result",
          "data": {
            "text/plain": [
              "True"
            ],
            "text/latex": "$\\displaystyle \\text{True}$"
          },
          "metadata": {},
          "execution_count": 18
        }
      ],
      "source": [
        "# Check the solutions\n",
        "eq2.subs(x, sol_eq2[0]) and eq2.subs(x, sol_eq2[1])"
      ]
    },
    {
      "cell_type": "code",
      "execution_count": 19,
      "metadata": {
        "id": "LTNcg9ep8UpR",
        "outputId": "5c22d623-68ef-4ddf-e3fb-2d62b191a0c9",
        "colab": {
          "base_uri": "https://localhost:8080/",
          "height": 38
        }
      },
      "outputs": [
        {
          "output_type": "execute_result",
          "data": {
            "text/plain": [
              "Eq(x**2 + y**2, 1)"
            ],
            "text/latex": "$\\displaystyle x^{2} + y^{2} = 1$"
          },
          "metadata": {},
          "execution_count": 19
        }
      ],
      "source": [
        "# Equation with two unknowns\n",
        "eq3 = sp.Eq(x**2 + y**2, 1)\n",
        "eq3"
      ]
    },
    {
      "cell_type": "code",
      "execution_count": 20,
      "metadata": {
        "id": "HRCgCykt8UpR",
        "outputId": "1ce2d80e-553f-49b8-f834-2670693021cb",
        "colab": {
          "base_uri": "https://localhost:8080/"
        }
      },
      "outputs": [
        {
          "output_type": "execute_result",
          "data": {
            "text/plain": [
              "[-sqrt(1 - x**2), sqrt(1 - x**2)]"
            ]
          },
          "metadata": {},
          "execution_count": 20
        }
      ],
      "source": [
        "# Solutions of a quadratic equation with two unknowns\n",
        "sol_eq3 = sp.solve(eq3, y) # solve the equation for y as a function of x\n",
        "sol_eq3"
      ]
    },
    {
      "cell_type": "code",
      "execution_count": 21,
      "metadata": {
        "id": "s1qpu6nU8UpR",
        "outputId": "875c5152-3cae-4e7d-ab4b-5ddf4fa75dc6",
        "colab": {
          "base_uri": "https://localhost:8080/",
          "height": 40
        }
      },
      "outputs": [
        {
          "output_type": "execute_result",
          "data": {
            "text/plain": [
              "-sqrt(1 - x**2)"
            ],
            "text/latex": "$\\displaystyle - \\sqrt{1 - x^{2}}$"
          },
          "metadata": {},
          "execution_count": 21
        }
      ],
      "source": [
        "# We can display the solutions of the equation in a more readable way\n",
        "sol_eq3[0]"
      ]
    },
    {
      "cell_type": "code",
      "execution_count": 22,
      "metadata": {
        "id": "ArT0bDLZ8UpR",
        "outputId": "e536d2b8-8f10-42c9-b8b6-12ae019dc993",
        "colab": {
          "base_uri": "https://localhost:8080/",
          "height": 40
        }
      },
      "outputs": [
        {
          "output_type": "execute_result",
          "data": {
            "text/plain": [
              "sqrt(1 - x**2)"
            ],
            "text/latex": "$\\displaystyle \\sqrt{1 - x^{2}}$"
          },
          "metadata": {},
          "execution_count": 22
        }
      ],
      "source": [
        "sol_eq3[1]"
      ]
    },
    {
      "cell_type": "code",
      "execution_count": 23,
      "metadata": {
        "id": "qT6DaG4A8UpR",
        "outputId": "9882cb89-fc16-4ce5-fd25-7b98a084de66",
        "colab": {
          "base_uri": "https://localhost:8080/",
          "height": 38
        }
      },
      "outputs": [
        {
          "output_type": "execute_result",
          "data": {
            "text/plain": [
              "True"
            ],
            "text/latex": "$\\displaystyle \\text{True}$"
          },
          "metadata": {},
          "execution_count": 23
        }
      ],
      "source": [
        "# Check if the solutions satisfy the equation\n",
        "eq3.subs(y, sol_eq3[0]) and eq3.subs(y, sol_eq3[1])"
      ]
    },
    {
      "cell_type": "code",
      "execution_count": 24,
      "metadata": {
        "id": "zsNwYTaj8UpR"
      },
      "outputs": [],
      "source": [
        "# Set the display mode for plots\n",
        "import matplotlib.pyplot as plt\n",
        "plt.rcParams['figure.figsize'] = [3, 3] # set plot size and aspect_ratio=1"
      ]
    },
    {
      "cell_type": "code",
      "execution_count": 25,
      "metadata": {
        "id": "eBt_8XBM8UpR",
        "outputId": "2473bb5c-c991-4166-de2a-4a99e883c938",
        "colab": {
          "base_uri": "https://localhost:8080/",
          "height": 307
        }
      },
      "outputs": [
        {
          "output_type": "display_data",
          "data": {
            "text/plain": [
              "<Figure size 300x300 with 1 Axes>"
            ],
            "image/png": "[encoded data removed]"
          },
          "metadata": {}
        }
      ],
      "source": [
        "# We can also plot the solutions of the equation on the plane aspect_ratio=1\n",
        "sp.plot_implicit(eq3, (x, -2, 2), (y, -2, 2));"
      ]
    },
    {
      "cell_type": "code",
      "execution_count": 26,
      "metadata": {
        "id": "f64bCr5i8UpR",
        "outputId": "29f993df-c9ea-4c4d-c246-cc061254cf7b",
        "colab": {
          "base_uri": "https://localhost:8080/",
          "height": 54
        }
      },
      "outputs": [
        {
          "output_type": "execute_result",
          "data": {
            "text/plain": [
              "Eq(x**2/4 + y**2, 1)"
            ],
            "text/latex": "$\\displaystyle \\frac{x^{2}}{4} + y^{2} = 1$"
          },
          "metadata": {},
          "execution_count": 26
        }
      ],
      "source": [
        "ellipse = sp.Eq(x**2/4 + y**2, 1)\n",
        "ellipse"
      ]
    },
    {
      "cell_type": "code",
      "execution_count": 27,
      "metadata": {
        "id": "wzJrefY68UpR",
        "outputId": "fd1170ad-a71d-4e15-94f7-f36d97d1f177",
        "colab": {
          "base_uri": "https://localhost:8080/",
          "height": 307
        }
      },
      "outputs": [
        {
          "output_type": "display_data",
          "data": {
            "text/plain": [
              "<Figure size 300x300 with 1 Axes>"
            ],
            "image/png": "[encoded data removed]"
          },
          "metadata": {}
        }
      ],
      "source": [
        "# We can also plot the solutions of the equation on the plane aspect_ratio=1\n",
        "sp.plot_implicit(ellipse, (x, -3, 3), (y, -3, 3));"
      ]
    },
    {
      "cell_type": "code",
      "execution_count": 28,
      "metadata": {
        "id": "ieNmsx7N8UpR",
        "outputId": "f508ac08-9018-408c-caf8-0a79eabaab69",
        "colab": {
          "base_uri": "https://localhost:8080/",
          "height": 307
        }
      },
      "outputs": [
        {
          "output_type": "display_data",
          "data": {
            "text/plain": [
              "<Figure size 300x300 with 1 Axes>"
            ],
            "image/png": "[encoded data removed]"
          },
          "metadata": {}
        }
      ],
      "source": [
        "# We can also plot several equations on one plot\n",
        "line = sp.Eq(y, 2*x - 1)\n",
        "circle = sp.Eq(x**2 + y**2, 1)\n",
        "\n",
        "# Plotting the circle and ellipse on one plot\n",
        "p1 = sp.plot_implicit(line, (x, -2, 2), (y, -2, 2), show=False)\n",
        "p2 = sp.plot_implicit(circle, (x, -2, 2), (y, -2, 2), show=False)\n",
        "\n",
        "# Add the plots together\n",
        "p1.extend(p2) # \"attach\"\n",
        "p1.show()"
      ]
    },
    {
      "cell_type": "code",
      "execution_count": 29,
      "metadata": {
        "id": "exPE7TL38UpS",
        "outputId": "210c9c05-383f-4b22-c7de-1a09c075bb3d",
        "colab": {
          "base_uri": "https://localhost:8080/"
        }
      },
      "outputs": [
        {
          "output_type": "execute_result",
          "data": {
            "text/plain": [
              "[{x: 0, y: -1}, {x: 4/5, y: 3/5}]"
            ]
          },
          "metadata": {},
          "execution_count": 29
        }
      ],
      "source": [
        "# Let's see where the circle and the line intersect\n",
        "intersection_points = sp.solve([line, circle])\n",
        "intersection_points"
      ]
    },
    {
      "cell_type": "code",
      "execution_count": 30,
      "metadata": {
        "id": "-L4MNm5D8UpS",
        "outputId": "d358e615-7c3d-4c5a-c19d-f3fab90b2ff2",
        "colab": {
          "base_uri": "https://localhost:8080/",
          "height": 38
        }
      },
      "outputs": [
        {
          "output_type": "execute_result",
          "data": {
            "text/plain": [
              "Eq(x + y, 1)"
            ],
            "text/latex": "$\\displaystyle x + y = 1$"
          },
          "metadata": {},
          "execution_count": 30
        }
      ],
      "source": [
        "# How to check if two equations are equivalent?\n",
        "\n",
        "# Let's write the same in a different form\n",
        "r1 = sp.Eq(x + y, 1)\n",
        "r1"
      ]
    },
    {
      "cell_type": "code",
      "execution_count": 31,
      "metadata": {
        "id": "m8Q8DuTA8UpS",
        "outputId": "72b99995-dfb0-4124-df8a-0069a9571677",
        "colab": {
          "base_uri": "https://localhost:8080/",
          "height": 38
        }
      },
      "outputs": [
        {
          "output_type": "execute_result",
          "data": {
            "text/plain": [
              "Eq(2*x - 2, -2*y)"
            ],
            "text/latex": "$\\displaystyle 2 x - 2 = - 2 y$"
          },
          "metadata": {},
          "execution_count": 31
        }
      ],
      "source": [
        "r2 = sp.Eq(2*x - 2, -2*y)\n",
        "r2"
      ]
    },
    {
      "cell_type": "code",
      "execution_count": 32,
      "metadata": {
        "id": "KqXAWhYR8UpT",
        "outputId": "5acf6ec0-564a-4351-cd73-c79f0aa07116",
        "colab": {
          "base_uri": "https://localhost:8080/"
        }
      },
      "outputs": [
        {
          "output_type": "execute_result",
          "data": {
            "text/plain": [
              "False"
            ]
          },
          "metadata": {},
          "execution_count": 32
        }
      ],
      "source": [
        "# We cannot directly compare two equations, but we can check if they are equivalent\n",
        "r1 == r2"
      ]
    },
    {
      "cell_type": "code",
      "execution_count": 33,
      "metadata": {
        "id": "1ErkZxb78UpT",
        "outputId": "2050725d-b6c0-4213-c51a-7e3740e3ceca",
        "colab": {
          "base_uri": "https://localhost:8080/",
          "height": 54
        }
      },
      "outputs": [
        {
          "output_type": "execute_result",
          "data": {
            "text/plain": [
              "(x + y - 1)/(2*x + 2*y - 2)"
            ],
            "text/latex": "$\\displaystyle \\frac{x + y - 1}{2 x + 2 y - 2}$"
          },
          "metadata": {},
          "execution_count": 33
        }
      ],
      "source": [
        "# But if we make an expression\n",
        "ratio = (r1.lhs - r1.rhs) / (r2.lhs - r2.rhs)\n",
        "ratio"
      ]
    },
    {
      "cell_type": "code",
      "execution_count": 34,
      "metadata": {
        "id": "kDCsH7V38UpT",
        "outputId": "f9caea06-35d1-4042-f1f1-a6f3149f7ae2",
        "colab": {
          "base_uri": "https://localhost:8080/",
          "height": 51
        }
      },
      "outputs": [
        {
          "output_type": "execute_result",
          "data": {
            "text/plain": [
              "1/2"
            ],
            "text/latex": "$\\displaystyle \\frac{1}{2}$"
          },
          "metadata": {},
          "execution_count": 34
        }
      ],
      "source": [
        "# simplify the expression\n",
        "sp.simplify(ratio)"
      ]
    }
  ],
  "metadata": {
    "kernelspec": {
      "display_name": "Python 3",
      "language": "python",
      "name": "python3"
    },
    "language_info": {
      "codemirror_mode": {
        "name": "ipython",
        "version": 3
      },
      "file_extension": ".py",
      "mimetype": "text/x-python",
      "name": "python",
      "nbconvert_exporter": "python",
      "pygments_lexer": "ipython3",
      "version": "3.11.9"
    },
    "colab": {
      "provenance": [],
      "include_colab_link": true
    }
  },
  "nbformat": 4,
  "nbformat_minor": 0
}