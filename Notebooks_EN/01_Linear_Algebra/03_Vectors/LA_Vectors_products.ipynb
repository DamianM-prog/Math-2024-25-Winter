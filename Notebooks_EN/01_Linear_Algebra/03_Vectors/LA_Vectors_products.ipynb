{
  "cells": [
    {
      "cell_type": "markdown",
      "metadata": {
        "id": "PRCrMkb2Pop8"
      },
      "source": [
        "# Vectors - Scalar, Vector, Mixed Products\n",
        "\n",
        "## Scalar Product\n",
        "\n",
        "The scalar product (also called the dot product) of two vectors is an operation that returns a scalar value. It is defined as the sum of the products of the corresponding components of two vectors.\n",
        "\n",
        "For two vectors $\\mathbf{a}$ and $\\mathbf{b}$ in the space $\\mathbb{R}^n$, where:\n",
        "\n",
        "$$\n",
        "\\mathbf{a} = [a_1, a_2, \\dots, a_n], \\quad \\mathbf{b} = [b_1, b_2, \\dots, b_n]\n",
        "$$\n",
        "\n",
        "The scalar product is defined as follows:\n",
        "\n",
        "$$\n",
        "\\mathbf{a} \\cdot \\mathbf{b} = a_1b_1 + a_2b_2 + \\dots + a_nb_n = \\sum_{i=1}^{n} a_i b_i\n",
        "$$\n",
        "\n",
        "Example for three-dimensional space ($ \\mathbb{R}^3 $):\n",
        "\n",
        "For vectors $\\mathbf{a} = [a_1, a_2, a_3]$ and $\\mathbf{b} = [b_1, b_2, b_3]$, the scalar product is:\n",
        "\n",
        "$$\n",
        "\\mathbf{a} \\cdot \\mathbf{b} = a_1b_1 + a_2b_2 + a_3b_3\n",
        "$$\n",
        "\n",
        "The scalar product returns a number that measures the \"similarity of direction\" between two vectors. If $\\mathbf{a} \\cdot \\mathbf{b} = 0$, the vectors are perpendicular.\n",
        "\n",
        "Alternatively, the scalar product can be expressed as:\n",
        "\n",
        "$$\n",
        "\\mathbf{a} \\cdot \\mathbf{b} = \\|\\mathbf{a}\\| \\|\\mathbf{b}\\| \\cos(\\theta),\n",
        "$$\n",
        "which is the product of the magnitudes of vectors $\\mathbf{a}$ and $\\mathbf{b}$ multiplied by the cosine of the angle between them.\n",
        "\n",
        "## Vector Product\n",
        "\n",
        "The vector product (also called the cross product) is an operation that returns a new vector perpendicular to the two input vectors. It is defined only in three-dimensional space $ \\mathbb{R}^3 $.\n",
        "\n",
        "For two vectors $ \\mathbf{a} = [a_1, a_2, a_3] $ and $ \\mathbf{b} = [b_1, b_2, b_3] $, the vector product $ \\mathbf{a} \times \\mathbf{b} $ is defined as:\n",
        "\n",
        "$$ \\mathbf{a} \t\\times \\mathbf{b} =\n",
        "\\begin{vmatrix}\n",
        "\\mathbf{i} & \\mathbf{j} & \\mathbf{k} \\\\\n",
        "a_1 & a_2 & a_3 \\\\\n",
        "b_1 & b_2 & b_3\n",
        "\\end{vmatrix}\n",
        "$$\n",
        "\n",
        "Where $ \\mathbf{i}, \\mathbf{j}, \\mathbf{k} $ are unit vectors along the $ x, y, z $ axes. Interestingly, to calculate the vector product and obtain the resulting vector, we use the determinant (a scalar) of the matrix (a second-order tensor) whose rows are the basis vectors (vectors) and the components of the vectors (scalars).\n",
        "\n",
        "The vector product can be expressed in expanded form:\n",
        "\n",
        "$$ \\mathbf{a} \t\\times \\mathbf{b} = \\left( a_2b_3 - a_3b_2 \\right)\\mathbf{i} - \\left( a_1b_3 - a_3b_1 \\right)\\mathbf{j} + \\left( a_1b_2 - a_2b_1 \\right)\\mathbf{k} $$\n",
        "\n",
        "The result of the vector product is a new vector:\n",
        "\n",
        "$$ \\mathbf{c} = \\mathbf{a} \t\\times \\mathbf{b} = [a_2b_3 - a_3b_2, a_3b_1 - a_1b_3, a_1b_2 - a_2b_1] $$\n",
        "\n",
        "The vector product returns a vector $\\mathbf{c}$ perpendicular to the plane defined by $ \\mathbf{a} $ and $ \\mathbf{b} $, and its magnitude is equal to the area of the parallelogram whose sides are defined by the vectors $ \\mathbf{a} $ and $ \\mathbf{b} $\n",
        "$$\n",
        "|\\mathbf{c}| = |\\mathbf{a}| |\\mathbf{b}| \\sin \\theta\n",
        "$$\n",
        "\n",
        "where $\theta$ is the angle between the vectors. The direction of vector $\\vec{c}$ is determined by the right-hand rule.\n",
        "\n",
        "## Mixed Product\n",
        "\n",
        "The mixed product of three vectors $\\mathbf{a}, \\mathbf{b}, \\mathbf{c}$ is defined as:\n",
        "\n",
        "$$\n",
        "\\mathbf{a} \\cdot \\left( \\mathbf{b} \\times \\mathbf{c} \\right)\n",
        "$$\n",
        "\n",
        "This is equivalent to the scalar product $\\mathbf{a} \\times \\left( \\mathbf{b} \\times \\mathbf{c} \\right)$.\n",
        "\n",
        "The mixed product is equal to zero if the vectors $\\mathbf{a}, \\mathbf{b}, \\mathbf{c}$ are collinear or parallel.\n",
        "\n",
        "The volume of the parallelepiped defined by three vectors $\\mathbf{a}, \\mathbf{b}, \\mathbf{c}$ is equal to the absolute value of the mixed product of these vectors.\n",
        "\n",
        "## Implementation"
      ]
    },
    {
      "cell_type": "code",
      "execution_count": null,
      "metadata": {
        "id": "ep1LtVy1Pop9"
      },
      "outputs": [],
      "source": [
        "import sympy as sp\n",
        "# Vector definitions\n",
        "a = sp.Matrix([1, 2, 3])\n",
        "b = sp.Matrix([4, 5, 6])\n",
        "c = sp.Matrix([7, 0, 9])\n",
        "d = sp.Matrix([0, 2, 0])"
      ]
    },
    {
      "cell_type": "code",
      "execution_count": null,
      "metadata": {
        "id": "GWPxy4AIPop-",
        "outputId": "372261db-e2fd-496b-833a-3e62786281e4",
        "colab": {
          "base_uri": "https://localhost:8080/",
          "height": 78
        }
      },
      "outputs": [
        {
          "output_type": "execute_result",
          "data": {
            "text/plain": [
              "Matrix([\n",
              "[7],\n",
              "[0],\n",
              "[9]])"
            ],
            "text/latex": "$\\displaystyle \\left[\\begin{matrix}7\\\\0\\\\9\\end{matrix}\\right]$"
          },
          "metadata": {},
          "execution_count": 2
        }
      ],
      "source": [
        "# Display vector c\n",
        "c"
      ]
    },
    {
      "cell_type": "code",
      "execution_count": null,
      "metadata": {
        "id": "kVifwdERPop-",
        "outputId": "7121a34d-79f3-4974-ddd3-761f428044ec",
        "colab": {
          "base_uri": "https://localhost:8080/",
          "height": 78
        }
      },
      "outputs": [
        {
          "output_type": "execute_result",
          "data": {
            "text/plain": [
              "Matrix([\n",
              "[5],\n",
              "[7],\n",
              "[9]])"
            ],
            "text/latex": "$\\displaystyle \\left[\\begin{matrix}5\\\\7\\\\9\\end{matrix}\\right]$"
          },
          "metadata": {},
          "execution_count": 3
        }
      ],
      "source": [
        "# Adding vectors a and b\n",
        "a + b"
      ]
    },
    {
      "cell_type": "code",
      "execution_count": null,
      "metadata": {
        "id": "h2KDNw_IPop-",
        "outputId": "639cf49f-1203-4e6f-ce7d-f9aa50c88803",
        "colab": {
          "base_uri": "https://localhost:8080/"
        }
      },
      "outputs": [
        {
          "output_type": "execute_result",
          "data": {
            "text/plain": [
              "True"
            ]
          },
          "metadata": {},
          "execution_count": 4
        }
      ],
      "source": [
        "# Dot product of a and b\n",
        "(1*4 + 2*5 + 3*6) == a.dot(b)"
      ]
    },
    {
      "cell_type": "code",
      "execution_count": null,
      "metadata": {
        "id": "rn_3bGrdPop_",
        "outputId": "fd879a3d-ef96-4d68-b922-0430fbec6aca",
        "colab": {
          "base_uri": "https://localhost:8080/"
        }
      },
      "outputs": [
        {
          "output_type": "execute_result",
          "data": {
            "text/plain": [
              "True"
            ]
          },
          "metadata": {},
          "execution_count": 5
        }
      ],
      "source": [
        "# Cross product of a and c\n",
        "# a = [1, 2, 3]\n",
        "# c = [7, 0, 9]\n",
        "\n",
        "# As an aid, write the vectors as 3x3 matrices\n",
        "# i, j, k\n",
        "# 1, 2, 3\n",
        "# 7, 0, 9\n",
        "\n",
        "# Now\n",
        "comp1 = (2*9 - 3*0)\n",
        "comp2 = -(1*9 - 3*7)\n",
        "comp3 = (1*0 - 2*7)\n",
        "\n",
        "# Result\n",
        "sp.Matrix([comp1, comp2, comp3]) == a.cross(c)"
      ]
    },
    {
      "cell_type": "code",
      "execution_count": null,
      "metadata": {
        "id": "SKjRfLlyPop_",
        "outputId": "1c3dc44b-1a43-4843-d6e7-45c805432f11",
        "colab": {
          "base_uri": "https://localhost:8080/"
        }
      },
      "outputs": [
        {
          "output_type": "execute_result",
          "data": {
            "text/plain": [
              "True"
            ]
          },
          "metadata": {},
          "execution_count": 6
        }
      ],
      "source": [
        "# Perpendicularity of vectors\n",
        "# c = [7, 0, 9]\n",
        "# d = [0, 2, 0]\n",
        "\n",
        "# If the dot product of vectors is equal to 0, they are perpendicular\n",
        "dot_product = 7*0 + 0*2 + 9*0\n",
        "dot_product == 0"
      ]
    },
    {
      "cell_type": "markdown",
      "metadata": {
        "id": "1fTmxF7pPop_"
      },
      "source": [
        "## Applications\n",
        "\n",
        "### Calculating the Angle Between Vectors\n",
        "\n",
        "$$\n",
        "\\cos \\theta = \\frac{\\mathbf{a} \\cdot \\mathbf{b}}{\\|\\mathbf{a}\\| \\|\\mathbf{b}\\|}\n",
        "$$\n",
        "\n",
        "### Checking Vector Perpendicularity\n",
        "\n",
        "Vectors $\\mathbf{a}$ and $\\mathbf{b}$ are perpendicular if their dot product is zero:\n",
        "$$\n",
        "\\mathbf{a} \\cdot \\mathbf{b} = 0\n",
        "\\quad \\Leftrightarrow \\quad\n",
        " \\mathbf{a} \\perp \\mathbf{b}\n",
        "$$\n",
        "\n",
        "### Finding Projections of Vectors onto Other Vectors\n",
        "\n",
        "$$\n",
        "\\text{Projection} = \\frac{\\mathbf{a} \\cdot \\mathbf{b}}{\\|\\mathbf{b}\\|}\n",
        "$$\n",
        "\n",
        "### Calculating Work Done by a Force in Physics\n",
        "\n",
        "For a force $\\mathbf{F} = (F_x, F_y, F_z)$ acting along a displacement $\\mathbf{d} = (d_x, d_y, d_z)$, work is calculated as:\n",
        "\n",
        "$$\n",
        "W = \\mathbf{F} \\cdot \\mathbf{d} = |\\mathbf{F}| |\\mathbf{d}| \\cos \\theta = F_x d_x + F_y d_y + F_z d_z\n",
        "$$\n",
        "\n",
        "### Torque\n",
        "\n",
        "In physics: torque is the vector product of the force vector and the arm of the force:\n",
        "\n",
        "$$\n",
        "\\mathbf{M} = \\mathbf{r} \\times \\mathbf{F}\n",
        "$$\n",
        "\n",
        "### Calculating the Area of a Parallelogram\n",
        "\n",
        "The area of a parallelogram spanned by two vectors:\n",
        "\n",
        "$$\n",
        "\\text{Area}_{r} = \\mathbf{a} \\times \\mathbf{b} = |\\mathbf{a}| |\\mathbf{b}| \\sin \\theta\n",
        "$$\n",
        "\n",
        "### Calculating the Area of a Triangle\n",
        "\n",
        "The area of a triangle spanned by two vectors $\\mathbf{a}$ and $\\mathbf{b}$:\n",
        "\n",
        "$$\n",
        "\\text{Area}_{t} = \\frac{1}{2} |\\mathbf{a} \\times \\mathbf{b}|\n",
        "$$\n",
        "\n",
        "### Calculating the Volume of Parallelepipeds and Tetrahedrons\n",
        "\n",
        "The mixed product of vectors is used to calculate the volume of parallelepipeds and tetrahedrons. For three vectors **$\\mathbf{a}$**, **$\\mathbf{b}$**, and **$\\mathbf{c}$**, the volume of the parallelepiped is given by:\n",
        "\n",
        "$$\n",
        "V = |\\mathbf{a} \\cdot (\\mathbf{b} \\times \\mathbf{c})|\n",
        "$$\n",
        "(Note: **| |** here denotes the absolute value, not the magnitude!)\n",
        "\n",
        "### Checking Coplanarity of Three Vectors\n",
        "\n",
        "If the mixed product of three vectors is equal to zero, it means that the vectors are coplanar. Otherwise, they form a tetrahedron.\n",
        "\n",
        "---\n",
        "\n",
        "## Student Exercises\n",
        "\n",
        "A. Perform the addition of vector $[2, 1]$ to vector $[-1, 1]$. Plot both vectors and their sum on a graph.\n",
        "\n",
        "B. Calculate the area of the triangle spanned by vectors $[2, 1]$ and $[-1, 1]$.\n",
        "\n",
        "C. Calculate the volume of the parallelepiped spanned by vectors $[2, 1]$, $[-1, 1]$, and $[1, 2]$.\n",
        "\n",
        "D. Check if vectors $[2, 1]$ and $[-1, 1]$ are perpendicular.\n",
        "\n",
        "E. Calculate the angle in degrees between vectors $[4,2,1]$ and $[1,3,2]$.\n",
        "\n",
        "F. For three-dimensional vectors: $\\mathbf{a}=[a_x, a_y, a_z]$, $\\mathbf{b}=[b_x, b_y, b_z]$, $\\mathbf{c}=[c_x, c_y, c_z]$, prove that the following identity is satisfied:\n",
        "\n",
        "$$\n",
        "\\mathbf{a} \\times (\\mathbf{b} \\times \\mathbf{c}) = (\\mathbf{a} \\cdot \\mathbf{c}) \\mathbf{b} - (\\mathbf{a} \\cdot \\mathbf{b}) \\mathbf{c}.\n",
        "$$"
      ]
    },
    {
      "cell_type": "markdown",
      "source": [
        "(2+(-1)),(1+1) = (1,2)"
      ],
      "metadata": {
        "id": "mJ4mwb8YaEwF"
      }
    },
    {
      "cell_type": "code",
      "source": [
        "#exercise 1\n",
        "import matplotlib.pyplot as plt\n",
        "import numpy as np\n",
        "\n",
        "# Define the vectors\n",
        "a = np.array([2, 1])  # Vector a\n",
        "b = np.array([-1, 1])  # Vector b\n",
        "sum_ab = a + b  # Sum of the vectors\n",
        "\n",
        "# Create the plot\n",
        "plt.figure(figsize=(6, 6))\n",
        "plt.quiver(0, 0, a[0], a[1], angles='xy', scale_units='xy', scale=1, color='blue', label=r'$\\mathbf{a} = [2, 1]$')\n",
        "plt.quiver(0, 0, b[0], b[1], angles='xy', scale_units='xy', scale=1, color='red', label=r'$\\mathbf{b} = [-1, 1]$')\n",
        "plt.quiver(0, 0, sum_ab[0], sum_ab[1], angles='xy', scale_units='xy', scale=1, color='green', label=r'$\\mathbf{a} + \\mathbf{b} = [1, 2]$')\n",
        "\n",
        "# Set limits and labels\n",
        "plt.xlim(-2, 3)\n",
        "plt.ylim(-2, 3)\n",
        "plt.axhline(0, color='black',linewidth=1)\n",
        "plt.axvline(0, color='black',linewidth=1)\n",
        "plt.grid(True)\n",
        "\n",
        "# Add labels and legend\n",
        "plt.text(2.1, 1, r'$\\mathbf{a} = [2, 1]$', color='blue')\n",
        "plt.text(-1.2, 1, r'$\\mathbf{b} = [-1, 1]$', color='red')\n",
        "plt.text(1, 2.1, r'$\\mathbf{a} + \\mathbf{b} = [1, 2]$', color='green')\n",
        "\n",
        "# Add title\n",
        "plt.title(\"Vector Addition\")\n",
        "\n",
        "# Show the plot\n",
        "plt.gca().set_aspect('equal', adjustable='box')\n",
        "plt.legend()\n",
        "plt.show()"
      ],
      "metadata": {
        "id": "5gFdts3XZ9UT",
        "outputId": "01b57db0-ac98-4dc9-9f53-51ab89fe264a",
        "colab": {
          "base_uri": "https://localhost:8080/",
          "height": 545
        }
      },
      "execution_count": null,
      "outputs": [
        {
          "output_type": "display_data",
          "data": {
            "text/plain": [
              "<Figure size 600x600 with 1 Axes>"
            ],
            "image/png": "[encoded data removed]"
          },
          "metadata": {}
        }
      ]
    },
    {
      "cell_type": "code",
      "source": [
        "#exercise 2\n",
        "[2,1] * [-1,1] = [-2,1]\n",
        "#module of a*b\n",
        "[2,1]\n",
        "1/2 * [2,1] = [1,0.5]"
      ],
      "metadata": {
        "id": "F20_KH7maBWr",
        "outputId": "c90d5a0b-abb5-459d-ea2c-9cf3cf965eb7",
        "colab": {
          "base_uri": "https://localhost:8080/",
          "height": 148
        }
      },
      "execution_count": null,
      "outputs": [
        {
          "output_type": "error",
          "ename": "TypeError",
          "evalue": "can't multiply sequence by non-int of type 'list'",
          "traceback": [
            "\u001b[0;31m---------------------------------------------------------------------------\u001b[0m",
            "\u001b[0;31mTypeError\u001b[0m                                 Traceback (most recent call last)",
            "\u001b[0;32m<ipython-input-8-82a8bac715cb>\u001b[0m in \u001b[0;36m<cell line: 1>\u001b[0;34m()\u001b[0m\n\u001b[0;32m----> 1\u001b[0;31m \u001b[0;34m[\u001b[0m\u001b[0;36m2\u001b[0m\u001b[0;34m,\u001b[0m\u001b[0;36m1\u001b[0m\u001b[0;34m]\u001b[0m \u001b[0;34m*\u001b[0m \u001b[0;34m[\u001b[0m\u001b[0;34m-\u001b[0m\u001b[0;36m1\u001b[0m\u001b[0;34m,\u001b[0m\u001b[0;36m1\u001b[0m\u001b[0;34m]\u001b[0m\u001b[0;34m\u001b[0m\u001b[0;34m\u001b[0m\u001b[0m\n\u001b[0m",
            "\u001b[0;31mTypeError\u001b[0m: can't multiply sequence by non-int of type 'list'"
          ]
        }
      ]
    },
    {
      "cell_type": "code",
      "source": [
        "#exercise 3\n",
        "#V = I[2,1] * ([-1,1] * [1,2])I\n",
        "#V = I[2,1] * [-1,2]I\n",
        "#V = I[-2,2]I\n",
        "#V = [2,2]"
      ],
      "metadata": {
        "id": "U3Ifc89xbUcI"
      },
      "execution_count": null,
      "outputs": []
    },
    {
      "cell_type": "code",
      "source": [
        "#exercise 4\n",
        "#[2,1] * [-1,1] = [-2,1]\n",
        "#not perpendicular"
      ],
      "metadata": {
        "id": "ATcNJgiodOxS"
      },
      "execution_count": null,
      "outputs": []
    },
    {
      "cell_type": "code",
      "source": [
        "#exercise 5"
      ],
      "metadata": {
        "id": "295C6W5xeaXA"
      },
      "execution_count": null,
      "outputs": []
    },
    {
      "source": [
        "#exercise 5\n",
        "import numpy as np\n",
        "import math\n",
        "a = np.array([4, 2, 1])\n",
        "b = np.array([1, 3, 2])\n",
        "dot_product = np.dot(a, b)"
      ],
      "cell_type": "code",
      "metadata": {
        "id": "Qm8d5TidfTef"
      },
      "execution_count": null,
      "outputs": []
    },
    {
      "cell_type": "code",
      "source": [
        "magnitude_a = np.linalg.norm(a)\n",
        "magnitude_b = np.linalg.norm(b)"
      ],
      "metadata": {
        "id": "yw-EmCxkfZ5w"
      },
      "execution_count": null,
      "outputs": []
    },
    {
      "cell_type": "code",
      "source": [
        "cos_theta = dot_product / (magnitude_a * magnitude_b)"
      ],
      "metadata": {
        "id": "at5TjfU4fb5n"
      },
      "execution_count": null,
      "outputs": []
    },
    {
      "cell_type": "code",
      "source": [
        "theta_radians = math.acos(cos_theta)\n",
        "theta_degrees = math.degrees(theta_radians)"
      ],
      "metadata": {
        "id": "a5svsTbkfdte"
      },
      "execution_count": null,
      "outputs": []
    },
    {
      "cell_type": "code",
      "source": [
        "print(f\"The angle between the vectors is: {theta_degrees:.2f} degrees\")"
      ],
      "metadata": {
        "id": "XPx0Ffzxffkq",
        "outputId": "1d15a9b0-2ee1-4862-a01b-837c3672e0a5",
        "colab": {
          "base_uri": "https://localhost:8080/"
        }
      },
      "execution_count": null,
      "outputs": [
        {
          "output_type": "stream",
          "name": "stdout",
          "text": [
            "The angle between the vectors is: 45.58 degrees\n"
          ]
        }
      ]
    },
    {
      "cell_type": "markdown",
      "source": [
        "Exercise 6\n",
        "\n",
        "For three-dimensional vectors:\n",
        "\\[$\n",
        "\\mathbf{a} = [a_x, a_y, a_z], \\quad \\mathbf{b} = [b_x, b_y, b_z], \\quad \\mathbf{c} = [c_x, c_y, c_z]\n",
        "$\\]\n",
        "\n",
        "The left-hand side is the cross product of \\($\\mathbf{a}$\\) with the cross product \\($\\mathbf{b} \\times \\mathbf{c}$\\). To compute this, we use the **vector triple product identity**, which states:\n",
        "\\[$\n",
        "\\mathbf{a} \\times (\\mathbf{b} \\times \\mathbf{c}) = (\\mathbf{a} \\cdot \\mathbf{c}) \\mathbf{b} - (\\mathbf{a} \\cdot \\mathbf{b}) \\mathbf{c}\n",
        "$\\]\n",
        "\n",
        "\\[$\n",
        "\\mathbf{a} \\cdot \\mathbf{b} = a_x b_x + a_y b_y + a_z b_z\n",
        "$\\]\n",
        "\n",
        "\\[$\n",
        "\\mathbf{a} \\cdot \\mathbf{c} = a_x c_x + a_y c_y + a_z c_z\n",
        "$\\]\n",
        "\n",
        "\\[$\n",
        "(\\mathbf{a} \\cdot \\mathbf{c}) \\mathbf{b} = (a_x c_x + a_y c_y + a_z c_z) [b_x, b_y, b_z]\n",
        "$\\]\n",
        "\n",
        "This gives:\n",
        "\\[$\n",
        "(\\mathbf{a} \\cdot \\mathbf{c}) \\mathbf{b} = \\left[ (a_x c_x + a_y c_y + a_z c_z) b_x, (a_x c_x + a_y c_y + a_z c_z) b_y, (a_x c_x + a_y c_y + a_z c_z) b_z \\right]\n",
        "$\\]\n",
        "\n",
        "Similarly:\n",
        "\\[$\n",
        "(\\mathbf{a} \\cdot \\mathbf{b}) \\mathbf{c} = (a_x b_x + a_y b_y + a_z b_z) [c_x, c_y, c_z]\n",
        "$\\]\n",
        "\n",
        "This gives:\n",
        "\\[$\n",
        "(\\mathbf{a} \\cdot \\mathbf{b}) \\mathbf{c} = \\left[ (a_x b_x + a_y b_y + a_z b_z) c_x, (a_x b_x + a_y b_y + a_z b_z) c_y, (a_x b_x + a_y b_y + a_z b_z) c_z \\right]\n",
        "$\\]\n",
        "\n",
        "Subtracting the two vectors gives:\n",
        "\\[$\n",
        "(\\mathbf{a} \\cdot \\mathbf{c}) \\mathbf{b} - (\\mathbf{a} \\cdot \\mathbf{b}) \\mathbf{c}\n",
        "$\\]\n",
        "\\[$\n",
        "= \\left[ (a_x c_x + a_y c_y + a_z c_z) b_x - (a_x b_x + a_y b_y + a_z b_z) c_x, \\right.\n",
        "$\\]\n",
        "\\[$\n",
        "\\left. (a_x c_x + a_y c_y + a_z c_z) b_y - (a_x b_x + a_y b_y + a_z b_z) c_y, \\right.\n",
        "$\\]\n",
        "\\[$\n",
        "\\left. (a_x c_x + a_y c_y + a_z c_z) b_z - (a_x b_x + a_y b_y + a_z b_z) c_z \\right]\n",
        "$\\]\n",
        "\n",
        "We now compute \\($\\mathbf{a} \\times (\\mathbf{b} \\times \\mathbf{c})$\\) using the properties of the cross product.\n",
        "\n",
        "#### Compute \\($\\mathbf{b} \\times \\mathbf{c}$\\):\n",
        "\n",
        "\\[$\n",
        "\\mathbf{b} \\times \\mathbf{c} = \\left| \\begin{matrix} \\mathbf{i} & \\mathbf{j} & \\mathbf{k} \\\\ b_x & b_y & b_z \\\\ c_x & c_y & c_z \\end{matrix} \\right|\n",
        "$\\]\n",
        "\n",
        "Expanding the determinant:\n",
        "\\[$\n",
        "\\mathbf{b} \\times \\mathbf{c} = \\left( (b_y c_z - b_z c_y), -(b_x c_z - b_z c_x), (b_x c_y - b_y c_x) \\right)\n",
        "$\\]\n",
        "\n",
        "#### Now, compute \\($\\mathbf{a} \\times (\\mathbf{b} \\times \\mathbf{c})$\\):\n",
        "\n",
        "\\[$\n",
        "\\mathbf{a} \\times (\\mathbf{b} \\times \\mathbf{c}) = \\left| \\begin{matrix} \\mathbf{i} & \\mathbf{j} & \\mathbf{k} \\\\ a_x & a_y & a_z \\\\ (b_y c_z - b_z c_y) & -(b_x c_z - b_z c_x) & (b_x c_y - b_y c_x) \\end{matrix} \\right|\n",
        "$\\]\n",
        "\n",
        "\n",
        "Now, we expand the determinant:\n",
        "\n",
        "##### For the \\($ \\mathbf{i} $\\)-component:\n",
        "\\[$\n",
        "\\mathbf{i}: \\quad \\left| \\begin{matrix} a_y & a_z \\\\ -(b_x c_z - b_z c_x) & (b_x c_y - b_y c_x) \\end{matrix} \\right|\n",
        "= \\mathbf{i} \\left( a_y (b_x c_y - b_y c_x) - a_z (b_x c_z - b_z c_x) \\right)\n",
        "$\\]\n",
        "Expanding this:\n",
        "\\[$\n",
        "= \\mathbf{i} \\left( a_y b_x c_y - a_y b_y c_x - a_z b_x c_z + a_z b_z c_x \\right)\n",
        "$\\]\n",
        "\n",
        "##### For the \\($ \\mathbf{j} $\\)-component:\n",
        "\\[$\n",
        "\\mathbf{j}: \\quad \\left| \\begin{matrix} a_x & a_z \\\\ (b_y c_z - b_z c_y) & (b_x c_y - b_y c_x) \\end{matrix} \\right|\n",
        "= -\\mathbf{j} \\left( a_x (b_x c_y - b_y c_x) - a_z (b_y c_z - b_z c_y) \\right)\n",
        "$\\]\n",
        "Expanding this:\n",
        "\\[$\n",
        "= -\\mathbf{j} \\left( a_x b_x c_y - a_x b_y c_x - a_z b_y c_z + a_z b_z c_y \\right)\n",
        "$\\]\n",
        "\n",
        "##### For the \\($ \\mathbf{k} $\\)-component:\n",
        "\\[$\n",
        "\\mathbf{k}: \\quad \\left| \\begin{matrix} a_x & a_y \\\\ (b_y c_z - b_z c_y) & -(b_x c_z - b_z c_x) \\end{matrix} \\right|\n",
        "= \\mathbf{k} \\left( a_x (b_x c_z - b_z c_x) - a_y (b_y c_z - b_z c_y) \\right)\n",
        "$\\]\n",
        "Expanding this:\n",
        "\\[$\n",
        "= \\mathbf{k} \\left( a_x b_x c_z - a_x b_z c_x - a_y b_y c_z + a_y b_z c_y \\right)\n",
        "$\\]\n",
        "\n",
        "Now, we combine the \\($ \\mathbf{i} $\\)-, \\($ \\mathbf{j} $\\)-, and \\( $\\mathbf{k} $\\)-components:\n",
        "\n",
        "\\[$ \\mathbf{a} \\times (\\mathbf{b} \\times \\mathbf{c})$\\] =\n",
        "\n",
        "\\[$ \\mathbf{i} \\left( a_y b_x c_y - a_y b_y c_x - a_z b_x c_z + a_z b_z c_x \\right) $\\] - \\[$  \\mathbf{j} \\left( a_x b_x c_y - a_x b_y c_x - a_z b_y c_z + a_z b_z c_y \\right) $\\] + \\[$ \\mathbf{k} \\left( a_x b_x c_z - a_x b_z c_x - a_y b_y c_z + a_y b_z c_y \\right)\n",
        "$\\]\n",
        "\n",
        "After simplifying:\n",
        "\n",
        "\\[$\n",
        "(\\mathbf{a} \\cdot \\mathbf{c}) \\mathbf{b} - (\\mathbf{a} \\cdot \\mathbf{b}) \\mathbf{c}\n",
        "$\\]"
      ],
      "metadata": {
        "id": "EnOBY2KJ1LGT"
      }
    }
  ],
  "metadata": {
    "kernelspec": {
      "display_name": "Python 3 (ipykernel)",
      "language": "python",
      "name": "python3",
      "path": "/media/dch/Disk2/Vizja/Math-2024-25-Winter/.venv/share/jupyter/kernels/python3"
    },
    "colab": {
      "provenance": []
    }
  },
  "nbformat": 4,
  "nbformat_minor": 0
}