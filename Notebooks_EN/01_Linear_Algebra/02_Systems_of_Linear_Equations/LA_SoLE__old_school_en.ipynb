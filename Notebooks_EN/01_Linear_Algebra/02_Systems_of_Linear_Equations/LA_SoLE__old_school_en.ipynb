{
  "cells": [
    {
      "cell_type": "markdown",
      "metadata": {
        "id": "ZfDUKyxsg0HA"
      },
      "source": [
        "# School Method for Solving Systems of Linear Equations"
      ]
    },
    {
      "cell_type": "code",
      "execution_count": null,
      "metadata": {
        "id": "THx6rATHg0HB"
      },
      "outputs": [],
      "source": [
        "import sympy as sp\n",
        "from sympy import symbols, Eq, expand, solve\n",
        "\n",
        "class EnhancedEq(Eq):\n",
        "    def __add__(self, other):\n",
        "        return EnhancedEq(self.lhs + other.lhs, self.rhs + other.rhs)\n",
        "\n",
        "    def __sub__(self, other):\n",
        "        return EnhancedEq(self.lhs - other.lhs, self.rhs - other.rhs)\n",
        "\n",
        "    def __mul__(self, scalar):\n",
        "        return EnhancedEq(scalar * self.lhs, scalar * self.rhs)\n",
        "\n",
        "    def __rmul__(self, scalar):\n",
        "        return self.__mul__(scalar)\n",
        "\n",
        "    def simplify(self):\n",
        "        return EnhancedEq(expand(self.lhs), expand(self.rhs))\n",
        "\n",
        "    def substitute(self, *args, **kwargs):\n",
        "        return EnhancedEq(self.lhs.subs(*args, **kwargs), self.rhs.subs(*args, **kwargs))\n",
        "\n",
        "    def solve_for(self, symbol):\n",
        "        return solve(self, symbol)\n",
        "\n",
        "# Example usage:\n",
        "x, y = symbols('x y')\n",
        "\n",
        "# Define equations\n",
        "eq1 = EnhancedEq(2*x + y, 5)\n",
        "eq2 = EnhancedEq(x - y, 1)"
      ]
    },
    {
      "cell_type": "code",
      "execution_count": null,
      "metadata": {
        "id": "IlsKVngZg0HC",
        "outputId": "14ba938b-9383-43be-a321-f0c65485ef79",
        "colab": {
          "base_uri": "https://localhost:8080/",
          "height": 57
        }
      },
      "outputs": [
        {
          "output_type": "stream",
          "name": "stdout",
          "text": [
            "First equation:\n"
          ]
        },
        {
          "output_type": "execute_result",
          "data": {
            "text/plain": [
              "Eq(2*x + y, 5)"
            ],
            "text/latex": "$\\displaystyle 2 x + y = 5$"
          },
          "metadata": {},
          "execution_count": 2
        }
      ],
      "source": [
        "print(\"First equation:\")\n",
        "eq1"
      ]
    },
    {
      "cell_type": "code",
      "execution_count": null,
      "metadata": {
        "id": "5X2UN4Pug0HD",
        "outputId": "18701d8c-1935-48a9-e8ab-6ee889cca111",
        "colab": {
          "base_uri": "https://localhost:8080/",
          "height": 57
        }
      },
      "outputs": [
        {
          "output_type": "stream",
          "name": "stdout",
          "text": [
            "Second equation:\n"
          ]
        },
        {
          "output_type": "execute_result",
          "data": {
            "text/plain": [
              "Eq(x - y, 1)"
            ],
            "text/latex": "$\\displaystyle x - y = 1$"
          },
          "metadata": {},
          "execution_count": 3
        }
      ],
      "source": [
        "print(\"Second equation:\")\n",
        "eq2"
      ]
    },
    {
      "cell_type": "code",
      "execution_count": null,
      "metadata": {
        "id": "I-jSRzxQg0HD",
        "outputId": "ea3e2f0f-8439-4ac8-ffbd-382a072fc842",
        "colab": {
          "base_uri": "https://localhost:8080/",
          "height": 38
        }
      },
      "outputs": [
        {
          "output_type": "execute_result",
          "data": {
            "text/plain": [
              "Eq(3*x, 6)"
            ],
            "text/latex": "$\\displaystyle 3 x = 6$"
          },
          "metadata": {},
          "execution_count": 4
        }
      ],
      "source": [
        "# Add the equations\n",
        "eq3 = eq1 + eq2\n",
        "eq3"
      ]
    },
    {
      "cell_type": "code",
      "execution_count": null,
      "metadata": {
        "id": "_O2cqcEGg0HD",
        "outputId": "bbf111c6-368e-4e22-f516-0bfa206d1414",
        "colab": {
          "base_uri": "https://localhost:8080/",
          "height": 38
        }
      },
      "outputs": [
        {
          "output_type": "execute_result",
          "data": {
            "text/plain": [
              "2"
            ],
            "text/latex": "$\\displaystyle 2$"
          },
          "metadata": {},
          "execution_count": 5
        }
      ],
      "source": [
        "# We have an equation with one unknown, so we can solve it\n",
        "sol_x = eq3.solve_for(x)[0]\n",
        "sol_x"
      ]
    },
    {
      "cell_type": "code",
      "execution_count": null,
      "metadata": {
        "id": "gIcEJ437g0HD",
        "outputId": "55d844cd-6ca6-4b69-f3c0-36b341b6f250",
        "colab": {
          "base_uri": "https://localhost:8080/",
          "height": 38
        }
      },
      "outputs": [
        {
          "output_type": "execute_result",
          "data": {
            "text/plain": [
              "Eq(2 - y, 1)"
            ],
            "text/latex": "$\\displaystyle 2 - y = 1$"
          },
          "metadata": {},
          "execution_count": 6
        }
      ],
      "source": [
        "# Substitute the solution into equation 2\n",
        "eq2 = eq2.substitute(x, sol_x)\n",
        "eq2"
      ]
    },
    {
      "cell_type": "code",
      "execution_count": null,
      "metadata": {
        "id": "jlVZa4zjg0HE",
        "outputId": "25cbaec2-3907-41a9-f192-65a563ddcf6c",
        "colab": {
          "base_uri": "https://localhost:8080/",
          "height": 38
        }
      },
      "outputs": [
        {
          "output_type": "execute_result",
          "data": {
            "text/plain": [
              "1"
            ],
            "text/latex": "$\\displaystyle 1$"
          },
          "metadata": {},
          "execution_count": 7
        }
      ],
      "source": [
        "# We get an equation with one unknown, so we can solve it\n",
        "eq2.solve_for(y)[0]"
      ]
    },
    {
      "cell_type": "code",
      "execution_count": null,
      "metadata": {
        "id": "TXGcAv_5g0HE",
        "outputId": "c7a9e6dd-5476-437e-cb33-4c9252a92170",
        "colab": {
          "base_uri": "https://localhost:8080/"
        }
      },
      "outputs": [
        {
          "output_type": "execute_result",
          "data": {
            "text/plain": [
              "{x: 2, y: 1}"
            ]
          },
          "metadata": {},
          "execution_count": 8
        }
      ],
      "source": [
        "# Thus x=2, y=1\n",
        "# Verify with sympy\n",
        "sp.solve([eq1, eq2])"
      ]
    },
    {
      "cell_type": "markdown",
      "metadata": {
        "id": "UIIhTrs9g0HE"
      },
      "source": [
        "---\n",
        "\n",
        "### Exercises for Students\n",
        "\n",
        "Solve the following systems of equations similarly to the example above:\n",
        "\n",
        "* $3x-2y=5, \\quad 2x+3y=7$,\n",
        "* $2x-3y=10, \\quad 4x+5y=20$,\n",
        "* $2x - y + z = 3, \\quad x + 2y - z = 1, \\quad 3x - y + 2z = 11$.\n",
        "* $2x-3y+4z+2t=2, \\quad 3x+2y-5z+3t=3, \\quad 4x-3y+2z-5t=4, \\quad 5x+4y-3z+2t=5$."
      ]
    },
    {
      "cell_type": "code",
      "source": [
        "import sympy as sp\n",
        "from sympy import symbols, Eq, expand, solve, Equality\n",
        "x, y = symbols('x y')\n",
        "eq1 = EnhancedEq(3*x - 2*y, 5)\n",
        "eq2 = EnhancedEq(2*x + 3*y, 7)"
      ],
      "metadata": {
        "id": "KdmomtcBh11H"
      },
      "execution_count": null,
      "outputs": []
    },
    {
      "cell_type": "code",
      "source": [
        "eq1"
      ],
      "metadata": {
        "id": "8w2BJXnti9yf",
        "outputId": "802354c9-3081-4dd7-a22d-1aeb663abd8f",
        "colab": {
          "base_uri": "https://localhost:8080/",
          "height": 38
        }
      },
      "execution_count": null,
      "outputs": [
        {
          "output_type": "execute_result",
          "data": {
            "text/plain": [
              "Eq(3*x - 2*y, 5)"
            ],
            "text/latex": "$\\displaystyle 3 x - 2 y = 5$"
          },
          "metadata": {},
          "execution_count": 111
        }
      ]
    },
    {
      "cell_type": "code",
      "source": [
        "eq2"
      ],
      "metadata": {
        "id": "S2qTYffSjG6h",
        "outputId": "f7d07581-fdea-46d2-dc34-7d1db4a3caa4",
        "colab": {
          "base_uri": "https://localhost:8080/",
          "height": 38
        }
      },
      "execution_count": null,
      "outputs": [
        {
          "output_type": "execute_result",
          "data": {
            "text/plain": [
              "Eq(2*x + 3*y, 7)"
            ],
            "text/latex": "$\\displaystyle 2 x + 3 y = 7$"
          },
          "metadata": {},
          "execution_count": 112
        }
      ]
    },
    {
      "cell_type": "code",
      "source": [
        "# Multiply eq1 by 3 and eq2 by 2\n",
        "eq3 = EnhancedEq(13*x, 29)\n",
        "eq3"
      ],
      "metadata": {
        "id": "LfEl_ObtnNJN",
        "outputId": "e4b748b7-1274-4968-fdee-24366370d3f0",
        "colab": {
          "base_uri": "https://localhost:8080/",
          "height": 38
        }
      },
      "execution_count": null,
      "outputs": [
        {
          "output_type": "execute_result",
          "data": {
            "text/plain": [
              "Eq(13*x, 29)"
            ],
            "text/latex": "$\\displaystyle 13 x = 29$"
          },
          "metadata": {},
          "execution_count": 113
        }
      ]
    },
    {
      "cell_type": "code",
      "source": [
        "print(\"x = 29/13\")\n",
        "#After getting anwser to x replace it with any exquation and get y"
      ],
      "metadata": {
        "id": "2mjjaYKXo5CD",
        "outputId": "b6d7a229-9b14-4df7-d3fe-ff391235df18",
        "colab": {
          "base_uri": "https://localhost:8080/"
        }
      },
      "execution_count": null,
      "outputs": [
        {
          "output_type": "stream",
          "name": "stdout",
          "text": [
            "x = 29/13\n"
          ]
        }
      ]
    },
    {
      "cell_type": "code",
      "source": [
        "print(\"y = 11/13\")"
      ],
      "metadata": {
        "id": "cBSBjd37rqY1",
        "outputId": "1f36a76f-63cc-404d-8dd0-a23c5e4bda91",
        "colab": {
          "base_uri": "https://localhost:8080/"
        }
      },
      "execution_count": null,
      "outputs": [
        {
          "output_type": "stream",
          "name": "stdout",
          "text": [
            "y = 11/13\n"
          ]
        }
      ]
    },
    {
      "cell_type": "code",
      "source": [
        "sp.solve([eq1, eq2])"
      ],
      "metadata": {
        "id": "7KNdq02yqFCT",
        "outputId": "50212de9-1efd-457a-b205-614a4f2d45c2",
        "colab": {
          "base_uri": "https://localhost:8080/"
        }
      },
      "execution_count": null,
      "outputs": [
        {
          "output_type": "execute_result",
          "data": {
            "text/plain": [
              "{x: 29/13, y: 11/13}"
            ]
          },
          "metadata": {},
          "execution_count": 115
        }
      ]
    },
    {
      "cell_type": "code",
      "source": [
        "import sympy as sp\n",
        "from sympy import symbols, Eq, expand, solve, Equality\n",
        "x, y = symbols('x y')\n",
        "eq1 = EnhancedEq(2*x - 3*y, 10)\n",
        "eq2 = EnhancedEq(4*x + 5*y, 20)"
      ],
      "metadata": {
        "id": "7HwEbZ9upBYm"
      },
      "execution_count": null,
      "outputs": []
    },
    {
      "cell_type": "code",
      "source": [
        "eq1"
      ],
      "metadata": {
        "id": "RdR17SQupM_Z",
        "outputId": "3a7ab87e-68c8-402a-a02d-ee5c5cbb5c7f",
        "colab": {
          "base_uri": "https://localhost:8080/",
          "height": 38
        }
      },
      "execution_count": null,
      "outputs": [
        {
          "output_type": "execute_result",
          "data": {
            "text/plain": [
              "Eq(2*x - 3*y, 10)"
            ],
            "text/latex": "$\\displaystyle 2 x - 3 y = 10$"
          },
          "metadata": {},
          "execution_count": 117
        }
      ]
    },
    {
      "cell_type": "code",
      "source": [
        "eq2"
      ],
      "metadata": {
        "id": "kLfgH5JEpNMX",
        "outputId": "2b19b4b0-20cc-4367-884c-fb853bee8c26",
        "colab": {
          "base_uri": "https://localhost:8080/",
          "height": 38
        }
      },
      "execution_count": null,
      "outputs": [
        {
          "output_type": "execute_result",
          "data": {
            "text/plain": [
              "Eq(4*x + 5*y, 20)"
            ],
            "text/latex": "$\\displaystyle 4 x + 5 y = 20$"
          },
          "metadata": {},
          "execution_count": 118
        }
      ]
    },
    {
      "cell_type": "code",
      "source": [
        "#Multiply eq1 by -2 and leave eq2 as it is and add the two\n",
        "eq3 = EnhancedEq(11*y, 0)\n",
        "eq3"
      ],
      "metadata": {
        "id": "E_co-tfzpPnS",
        "outputId": "f1561b2d-39ef-4133-fdf3-424a29711cf0",
        "colab": {
          "base_uri": "https://localhost:8080/",
          "height": 38
        }
      },
      "execution_count": null,
      "outputs": [
        {
          "output_type": "execute_result",
          "data": {
            "text/plain": [
              "Eq(11*y, 0)"
            ],
            "text/latex": "$\\displaystyle 11 y = 0$"
          },
          "metadata": {},
          "execution_count": 119
        }
      ]
    },
    {
      "cell_type": "code",
      "source": [
        "print(\"y = 0\")"
      ],
      "metadata": {
        "id": "SFS8jCK4p03u",
        "outputId": "e2d56c67-9804-419b-a67c-8c331949d32f",
        "colab": {
          "base_uri": "https://localhost:8080/"
        }
      },
      "execution_count": null,
      "outputs": [
        {
          "output_type": "stream",
          "name": "stdout",
          "text": [
            "y = 0\n"
          ]
        }
      ]
    },
    {
      "cell_type": "code",
      "source": [
        "print(\"x = 5\")"
      ],
      "metadata": {
        "id": "1aoaQrqNp4Ub",
        "outputId": "2483f52f-3f26-4080-967d-2e5bb2114fa3",
        "colab": {
          "base_uri": "https://localhost:8080/"
        }
      },
      "execution_count": null,
      "outputs": [
        {
          "output_type": "stream",
          "name": "stdout",
          "text": [
            "x = 5\n"
          ]
        }
      ]
    },
    {
      "cell_type": "code",
      "source": [
        "sp.solve([eq1, eq2])"
      ],
      "metadata": {
        "id": "n6_8FMOaqC8M",
        "outputId": "96ddf7e3-9972-4352-f8d4-a6b13d0b5db7",
        "colab": {
          "base_uri": "https://localhost:8080/"
        }
      },
      "execution_count": null,
      "outputs": [
        {
          "output_type": "execute_result",
          "data": {
            "text/plain": [
              "{x: 5, y: 0}"
            ]
          },
          "metadata": {},
          "execution_count": 122
        }
      ]
    },
    {
      "cell_type": "code",
      "source": [
        "import sympy as sp\n",
        "from sympy import symbols, Eq, expand, solve, Equality\n",
        "x, y, z = symbols('x y z')\n",
        "eq1 = EnhancedEq(2*x - 1*y + 1*z, 3)\n",
        "eq2 = EnhancedEq(1*x + 2*y - 1*z, 1)\n",
        "eq3 = EnhancedEq(3*x - 1*y + 2*z, 11)"
      ],
      "metadata": {
        "id": "5L4d8LWksMkU"
      },
      "execution_count": null,
      "outputs": []
    },
    {
      "cell_type": "code",
      "source": [
        "eq1"
      ],
      "metadata": {
        "id": "qiZznDqIt7dt",
        "outputId": "578a974d-dd38-4a00-ddb3-782b9ea4ea1c",
        "colab": {
          "base_uri": "https://localhost:8080/",
          "height": 38
        }
      },
      "execution_count": null,
      "outputs": [
        {
          "output_type": "execute_result",
          "data": {
            "text/plain": [
              "Eq(2*x - y + z, 3)"
            ],
            "text/latex": "$\\displaystyle 2 x - y + z = 3$"
          },
          "metadata": {},
          "execution_count": 132
        }
      ]
    },
    {
      "cell_type": "code",
      "source": [
        "eq2"
      ],
      "metadata": {
        "id": "JWnOtUWDt8Nr",
        "outputId": "abd845ae-dd59-4fff-dad6-ddfbc35bf731",
        "colab": {
          "base_uri": "https://localhost:8080/",
          "height": 38
        }
      },
      "execution_count": null,
      "outputs": [
        {
          "output_type": "execute_result",
          "data": {
            "text/plain": [
              "Eq(x + 2*y - z, 1)"
            ],
            "text/latex": "$\\displaystyle x + 2 y - z = 1$"
          },
          "metadata": {},
          "execution_count": 133
        }
      ]
    },
    {
      "cell_type": "code",
      "source": [
        "eq3"
      ],
      "metadata": {
        "id": "waM2HNJut87P",
        "outputId": "cb2020f6-e8c7-4d69-b480-2b9e63137af6",
        "colab": {
          "base_uri": "https://localhost:8080/",
          "height": 38
        }
      },
      "execution_count": null,
      "outputs": [
        {
          "output_type": "execute_result",
          "data": {
            "text/plain": [
              "Eq(3*x - y + 2*z, 11)"
            ],
            "text/latex": "$\\displaystyle 3 x - y + 2 z = 11$"
          },
          "metadata": {},
          "execution_count": 134
        }
      ]
    },
    {
      "cell_type": "code",
      "source": [
        "#Add them to each other\n",
        "eq4 = EnhancedEq(6*x + 2*z,15)\n",
        "eq4"
      ],
      "metadata": {
        "id": "vezpr3_jt-YF",
        "outputId": "14e1e773-d5a2-4715-cfd0-075175c44d5f",
        "colab": {
          "base_uri": "https://localhost:8080/",
          "height": 38
        }
      },
      "execution_count": null,
      "outputs": [
        {
          "output_type": "execute_result",
          "data": {
            "text/plain": [
              "Eq(6*x + 2*z, 15)"
            ],
            "text/latex": "$\\displaystyle 6 x + 2 z = 15$"
          },
          "metadata": {},
          "execution_count": 135
        }
      ]
    },
    {
      "cell_type": "code",
      "source": [
        "print(\"2z = 15 - 6x\")"
      ],
      "metadata": {
        "id": "qek_9gRezEmK",
        "outputId": "33f6cf57-23bb-4f39-8155-a771d24d570b",
        "colab": {
          "base_uri": "https://localhost:8080/"
        }
      },
      "execution_count": null,
      "outputs": [
        {
          "output_type": "stream",
          "name": "stdout",
          "text": [
            "2z = 15 - 6x\n"
          ]
        }
      ]
    },
    {
      "cell_type": "code",
      "source": [
        "print(\"z = 15/2 - 3x\")"
      ],
      "metadata": {
        "id": "XdnbpnW7zL6l",
        "outputId": "99e3953d-07d3-4d2a-da4f-53f5c5f6fb0b",
        "colab": {
          "base_uri": "https://localhost:8080/"
        }
      },
      "execution_count": null,
      "outputs": [
        {
          "output_type": "stream",
          "name": "stdout",
          "text": [
            "z = 15/2 - 3x\n"
          ]
        }
      ]
    },
    {
      "cell_type": "code",
      "source": [
        "#Take the result from z and put it in eq3\n",
        "print(\"3x - y + 2(15/2 - 3x) = 11\")"
      ],
      "metadata": {
        "id": "WRTsRLEBzRh8",
        "outputId": "3e4e9980-b793-4555-b0d9-28e4a444e273",
        "colab": {
          "base_uri": "https://localhost:8080/"
        }
      },
      "execution_count": null,
      "outputs": [
        {
          "output_type": "stream",
          "name": "stdout",
          "text": [
            "3x - y + 2(15/2 - 3x) = 11\n"
          ]
        }
      ]
    },
    {
      "cell_type": "code",
      "source": [
        "print(\"3x - y + 15 - 6x = 11\")"
      ],
      "metadata": {
        "id": "FW6cBC_6zttK",
        "outputId": "04205f91-f86d-4ddf-df53-d5a6062a1cd2",
        "colab": {
          "base_uri": "https://localhost:8080/"
        }
      },
      "execution_count": null,
      "outputs": [
        {
          "output_type": "stream",
          "name": "stdout",
          "text": [
            "3x - y + 15 - 6x = 11\n"
          ]
        }
      ]
    },
    {
      "cell_type": "code",
      "source": [
        "print(\"-3x - y = -4\")"
      ],
      "metadata": {
        "id": "h2T97gf0z6va",
        "outputId": "f776e23d-5b70-4aaa-84e8-307d8085c832",
        "colab": {
          "base_uri": "https://localhost:8080/"
        }
      },
      "execution_count": null,
      "outputs": [
        {
          "output_type": "stream",
          "name": "stdout",
          "text": [
            "-3x - y = -4\n"
          ]
        }
      ]
    },
    {
      "cell_type": "code",
      "source": [
        "print(\"y = 4 - 3x\")"
      ],
      "metadata": {
        "id": "KPdga3jf0CGp",
        "outputId": "4b74683e-49bb-42fe-a739-ddd2136731a4",
        "colab": {
          "base_uri": "https://localhost:8080/"
        }
      },
      "execution_count": null,
      "outputs": [
        {
          "output_type": "stream",
          "name": "stdout",
          "text": [
            "y = 4 - 3x\n"
          ]
        }
      ]
    },
    {
      "cell_type": "code",
      "source": [
        "#Take the y result and replace it in eq1\n",
        "print(\"2x - (4 - 3x) + (15/2 - 3x) = 3\")"
      ],
      "metadata": {
        "id": "_Izq7OVi0K1D",
        "outputId": "f33740ce-bf8d-4a86-8a72-6352986333ec",
        "colab": {
          "base_uri": "https://localhost:8080/"
        }
      },
      "execution_count": null,
      "outputs": [
        {
          "output_type": "stream",
          "name": "stdout",
          "text": [
            "2x - (4 - 3x) + (15/2 - 3x) = 3\n"
          ]
        }
      ]
    },
    {
      "cell_type": "code",
      "source": [
        "print(\"2x -4 + 3x + 15/2 - 3x = 3\")"
      ],
      "metadata": {
        "id": "Zq-xPFsd0huJ",
        "outputId": "6aa4d275-55b2-4f87-9030-13a3aa2b5a7c",
        "colab": {
          "base_uri": "https://localhost:8080/"
        }
      },
      "execution_count": null,
      "outputs": [
        {
          "output_type": "stream",
          "name": "stdout",
          "text": [
            "2x -4 + 3x + 15/2 - 3x = 3\n"
          ]
        }
      ]
    },
    {
      "cell_type": "code",
      "source": [
        "print(\"2x = 7 - 15/2\")"
      ],
      "metadata": {
        "id": "eDBXbzV80sUU",
        "outputId": "f6adfc3d-c509-44d3-f74f-3962dc4f6a20",
        "colab": {
          "base_uri": "https://localhost:8080/"
        }
      },
      "execution_count": null,
      "outputs": [
        {
          "output_type": "stream",
          "name": "stdout",
          "text": [
            "2x = 7 - 15/2\n"
          ]
        }
      ]
    },
    {
      "cell_type": "code",
      "source": [
        "print(\"2x = -1/2\")"
      ],
      "metadata": {
        "id": "WjZY3GHw1Ci5",
        "outputId": "1a78f75b-2ee0-4ab5-ec6b-c50b5f70ae57",
        "colab": {
          "base_uri": "https://localhost:8080/"
        }
      },
      "execution_count": null,
      "outputs": [
        {
          "output_type": "stream",
          "name": "stdout",
          "text": [
            "2x = -1/2\n"
          ]
        }
      ]
    },
    {
      "cell_type": "code",
      "source": [
        "print(\"x = -1/4\")"
      ],
      "metadata": {
        "id": "IgAj09g91H6C",
        "outputId": "d2c9a70e-ce85-4153-9935-f15ca2e895e4",
        "colab": {
          "base_uri": "https://localhost:8080/"
        }
      },
      "execution_count": null,
      "outputs": [
        {
          "output_type": "stream",
          "name": "stdout",
          "text": [
            "x = -1/4\n"
          ]
        }
      ]
    },
    {
      "cell_type": "code",
      "source": [
        "#Replace x with shortened equations\n",
        "print(\"y = 4 - 3(-1/4)\")"
      ],
      "metadata": {
        "id": "nOzcCCMK1MME",
        "outputId": "419db97b-ee57-4b78-8252-cc0269a69c7b",
        "colab": {
          "base_uri": "https://localhost:8080/"
        }
      },
      "execution_count": null,
      "outputs": [
        {
          "output_type": "stream",
          "name": "stdout",
          "text": [
            "y = 4 - 3(-1/4)\n"
          ]
        }
      ]
    },
    {
      "cell_type": "code",
      "source": [
        "print(\"y = 19/4\")"
      ],
      "metadata": {
        "id": "z0A6vB_N2e4w",
        "outputId": "687dc320-c2a5-42e1-dd59-c2c4d61fe910",
        "colab": {
          "base_uri": "https://localhost:8080/"
        }
      },
      "execution_count": null,
      "outputs": [
        {
          "output_type": "stream",
          "name": "stdout",
          "text": [
            "\n"
          ]
        }
      ]
    },
    {
      "cell_type": "code",
      "source": [
        "#Do the same with z\n",
        "print(\"z = 15/2 - 3(-1/4)\")"
      ],
      "metadata": {
        "id": "2e7HN4vm2rNq",
        "outputId": "e3e1ba2d-7bc9-4fc4-d9de-3b53e8a9a370",
        "colab": {
          "base_uri": "https://localhost:8080/"
        }
      },
      "execution_count": null,
      "outputs": [
        {
          "output_type": "stream",
          "name": "stdout",
          "text": [
            "z = 15/2 - 3(-1/4)\n"
          ]
        }
      ]
    },
    {
      "cell_type": "code",
      "source": [
        "print(\"z = 15/2 + 3/4\")"
      ],
      "metadata": {
        "id": "lvMfNG_k20NO",
        "outputId": "e92e7312-0f2e-4739-bc46-0019d08e4162",
        "colab": {
          "base_uri": "https://localhost:8080/"
        }
      },
      "execution_count": null,
      "outputs": [
        {
          "output_type": "stream",
          "name": "stdout",
          "text": [
            "z = 15/2 + 3/4\n"
          ]
        }
      ]
    },
    {
      "cell_type": "code",
      "source": [
        "print(\"z = 30/4 + 3/4\")"
      ],
      "metadata": {
        "id": "sT6alZ8F3AWh",
        "outputId": "36aa0451-361f-4289-931f-8fd0177027c0",
        "colab": {
          "base_uri": "https://localhost:8080/"
        }
      },
      "execution_count": null,
      "outputs": [
        {
          "output_type": "stream",
          "name": "stdout",
          "text": [
            "z = 30/4 + 3/4\n"
          ]
        }
      ]
    },
    {
      "cell_type": "code",
      "source": [
        "print(\"z = 33/4\")"
      ],
      "metadata": {
        "id": "LLAxFbi03GuN",
        "outputId": "9c6b82db-1c69-4368-f587-ad533e718122",
        "colab": {
          "base_uri": "https://localhost:8080/"
        }
      },
      "execution_count": null,
      "outputs": [
        {
          "output_type": "stream",
          "name": "stdout",
          "text": [
            "z = 33/4\n"
          ]
        }
      ]
    },
    {
      "cell_type": "code",
      "source": [
        "sp.solve([eq1, eq2, eq3])"
      ],
      "metadata": {
        "id": "-4Xb7yRuy-B9",
        "outputId": "23b9507e-58a6-40f8-89a4-128dd36669e3",
        "colab": {
          "base_uri": "https://localhost:8080/"
        }
      },
      "execution_count": null,
      "outputs": [
        {
          "output_type": "execute_result",
          "data": {
            "text/plain": [
              "{x: -1/4, y: 19/4, z: 33/4}"
            ]
          },
          "metadata": {},
          "execution_count": 136
        }
      ]
    },
    {
      "cell_type": "code",
      "source": [
        "import sympy as sp\n",
        "from sympy import symbols, Eq, expand, solve, Equality\n",
        "x, y, z, t = symbols('x y z t')\n",
        "eq1 = EnhancedEq(2*x - 3*y + 4*z + 2*t, 2)\n",
        "eq2 = EnhancedEq(3*x + 2*y + -5*z + 3*t, 3)\n",
        "eq3 = EnhancedEq(4*x - 3*y + 2*z - 5*t, 4)\n",
        "eq4 = EnhancedEq(5*x + 4*y - 3*z + 2*t, 5)"
      ],
      "metadata": {
        "id": "Aid61xbz3NQF"
      },
      "execution_count": null,
      "outputs": []
    },
    {
      "cell_type": "markdown",
      "source": [
        "Equations 1,2,3,4\n",
        "\n",
        "Equation = eq\n",
        "\n",
        "2t + 2x - 3y + 4z = 2\n",
        "\n",
        "3t + 3x + 2y - 5z = 3\n",
        "\n",
        "-5t + 4x - 3y + 2z = 4\n",
        "\n",
        "2t + 5x + 4y - 3z = 5"
      ],
      "metadata": {
        "id": "KSX3SfU5vMAa"
      }
    },
    {
      "cell_type": "markdown",
      "source": [
        "Equation 5 = 2 * eq2 - 3 * eq1\n",
        "\n",
        "13y - 22z = 0"
      ],
      "metadata": {
        "id": "uC1ng93Txklb"
      }
    },
    {
      "cell_type": "markdown",
      "source": [
        "Equation 6 = eq 3 - 2 * eq1\n",
        "\n",
        "-9t + 3y - 6z = 0"
      ],
      "metadata": {
        "id": "WXVwPR6gx7Gm"
      }
    },
    {
      "cell_type": "markdown",
      "source": [
        "Equation 7 = 2 * eq4 - 5 * eq1\n",
        "\n",
        "-6t + 23y - 26z = 0"
      ],
      "metadata": {
        "id": "ly16ukUYyIL0"
      }
    },
    {
      "cell_type": "markdown",
      "source": [
        "Equation 8 = 2 * eq6 - 3 * eq7\n",
        "\n",
        "-63y + 66z = 0"
      ],
      "metadata": {
        "id": "zBmmkQN7yPXP"
      }
    },
    {
      "cell_type": "markdown",
      "source": [
        "Equation 9 = eq8 + 3 * eq5\n",
        "\n",
        "-24y = 0\n",
        "\n",
        "y = 0"
      ],
      "metadata": {
        "id": "_tsGDpckyi7G"
      }
    },
    {
      "cell_type": "markdown",
      "source": [
        "Equation 5\n",
        "\n",
        "-22z = 0\n",
        "\n",
        "z = 0"
      ],
      "metadata": {
        "id": "T4SCCiGdyv80"
      }
    },
    {
      "cell_type": "markdown",
      "source": [
        "Equation 6\n",
        "\n",
        "-6t = 0\n",
        "\n",
        "t = 0"
      ],
      "metadata": {
        "id": "6n0oQ_dUy75x"
      }
    },
    {
      "cell_type": "markdown",
      "source": [
        "Equation 1\n",
        "\n",
        "2x = 2\n",
        "\n",
        "x = 1"
      ],
      "metadata": {
        "id": "zyXSwo43zDYa"
      }
    }
  ],
  "metadata": {
    "kernelspec": {
      "display_name": "Python 3",
      "language": "python",
      "name": "python3"
    },
    "language_info": {
      "codemirror_mode": {
        "name": "ipython",
        "version": 3
      },
      "file_extension": ".py",
      "mimetype": "text/x-python",
      "name": "python",
      "nbconvert_exporter": "python",
      "pygments_lexer": "ipython3",
      "version": "3.11.9"
    },
    "colab": {
      "provenance": []
    }
  },
  "nbformat": 4,
  "nbformat_minor": 0
}