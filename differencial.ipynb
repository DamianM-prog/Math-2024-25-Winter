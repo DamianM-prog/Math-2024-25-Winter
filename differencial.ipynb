{
  "nbformat": 4,
  "nbformat_minor": 0,
  "metadata": {
    "colab": {
      "provenance": [],
      "authorship_tag": "ABX9TyMPusY/jDaEQ3Zvctj9j+g2",
      "include_colab_link": true
    },
    "kernelspec": {
      "name": "python3",
      "display_name": "Python 3"
    },
    "language_info": {
      "name": "python"
    }
  },
  "cells": [
    {
      "cell_type": "markdown",
      "metadata": {
        "id": "view-in-github",
        "colab_type": "text"
      },
      "source": [
        "<a href=\"https://colab.research.google.com/github/DamianM-prog/Math-2024-25-Winter/blob/main/differencial.ipynb\" target=\"_parent\"><img src=\"https://colab.research.google.com/assets/colab-badge.svg\" alt=\"Open In Colab\"/></a>"
      ]
    },
    {
      "cell_type": "markdown",
      "source": [
        "### Exercise 1\n",
        " \\( $\\lim_{x \\to \\infty} \\frac{x^3 + 2x^2}{x^4 - 3x^3} $\\)\n",
        "\n",
        "\\[$\n",
        "\\lim_{x \\to \\infty} \\frac{x^3 + 2x^2}{x^4 - 3x^3} = \\lim_{x \\to \\infty} \\frac{\\frac{x^3}{x^4} + \\frac{2x^2}{x^4}}{\\frac{x^4}{x^4} - \\frac{3x^3}{x^4}}\n",
        "$\\]\n",
        "\n",
        "\\[$\n",
        " \\lim_{x \\to \\infty} \\frac{\\frac{1}{x} + \\frac{2}{x^2}}{1 - \\frac{3}{x}}\n",
        "$\\]\n",
        "\n",
        "As \\($ x \\to \\infty $\\), both \\($ \\frac{1}{x} $\\) and \\($ \\frac{2}{x^2} $\\) approach 0, and \\($ \\frac{3}{x} $\\) also approaches 0.\n",
        "\n",
        "\\[$\n",
        " \\frac{0 + 0}{1 - 0} = 0\n",
        "$\\]\n",
        "\n",
        "\\[$\n",
        "\\lim_{x \\to \\infty} \\frac{x^3 + 2x^2}{x^4 - 3x^3} = 0\n",
        "$\\]"
      ],
      "metadata": {
        "id": "MqPW5dfTOmJz"
      }
    },
    {
      "cell_type": "markdown",
      "source": [
        "#### Exercise 2 \\($ \\lim_{x \\to 0} \\frac{\\sin(3x)}{2x + 1} $\\)\n",
        "\n",
        " \\($ \\lim_{x \\to 0} \\frac{\\sin(x)}{x} = 1 $\\), and apply this to \\($ \\sin(3x) $\\).\n",
        "\n",
        "\\[$\n",
        "\\lim_{x \\to 0} \\frac{\\sin(3x)}{2x + 1} = \\lim_{x \\to 0} \\frac{3 \\sin(x)}{2x + 1}\n",
        "$\\]\n",
        "\n",
        "As \\($ x \\to 0 $\\), we know that \\($ \\sin(x) \\to 0 $\\), and \\($ 2x + 1 \\to 1 $\\).\n",
        "\n",
        "\\[$\n",
        "\\frac{3(0)}{1} = 0\n",
        "$\\]\n",
        "\n",
        "\\[$\n",
        "\\lim_{x \\to 0} \\frac{\\sin(3x)}{2x + 1} = 0\n",
        "$\\]\n"
      ],
      "metadata": {
        "id": "h0d7wr9bOnNB"
      }
    },
    {
      "cell_type": "markdown",
      "source": [
        "### Exercise 3 Find the asymptotes of the functions:\n",
        "\n",
        "#### a) For \\($ f(x) = \\frac{x^2 - 1}{x^2 + 1} $\\):\n",
        "\n",
        "\\[$\n",
        "f(x) = \\frac{x^2 - 1}{x^2 + 1} = \\frac{1 - \\frac{1}{x^2}}{1 + \\frac{1}{x^2}}\n",
        "$\\]\n",
        "\n",
        "\\($ x \\to \\infty $\\),\\($ \\frac{1}{x^2} $\\) approach 0\n",
        "\n",
        "\\[$\n",
        "f(x) \\to \\frac{1 - 0}{1 + 0} = 1\n",
        "$\\]\n",
        "\n",
        "Horizontal asymptote of \\( f(x) \\) is:\n",
        "\n",
        "\\[\n",
        "y = 1\n",
        "\\]\n",
        "\n",
        "There are no vertical asymptotes because the denominator \\( x^2 + 1 \\) is always positive and never zero.\n",
        "\n",
        "#### b) For \\($ g(x) = \\frac{\\sin(x)}{x^2 + 1} $\\):\n",
        "\n",
        "As \\($ x \\to \\infty $\\), the numerator \\($ \\sin(x) $\\) remains bounded between -1 and 1, while the denominator \\( x^2 + 1 \\) grows without bound. Thus, the function approaches 0 as \\( x \\to \\infty \\):\n",
        "\n",
        "\\[$\n",
        "g(x) \\to 0\n",
        "$\\]\n",
        "\n",
        "Therefore, the horizontal asymptote of \\( g(x) \\) is:\n",
        "\n",
        "\\[\n",
        "y = 0\n",
        "\\]\n",
        "\n",
        "There are no vertical asymptotes because \\( x^2 + 1 \\) is always positive and never zero."
      ],
      "metadata": {
        "id": "1H9vrRY0Op78"
      }
    }
  ]
}