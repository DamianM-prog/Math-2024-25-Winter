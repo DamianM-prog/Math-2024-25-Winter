{
  "nbformat": 4,
  "nbformat_minor": 0,
  "metadata": {
    "colab": {
      "provenance": [],
      "authorship_tag": "ABX9TyMINyZKDk/UY8O7VdOSJg2p",
      "include_colab_link": true
    },
    "kernelspec": {
      "name": "python3",
      "display_name": "Python 3"
    },
    "language_info": {
      "name": "python"
    }
  },
  "cells": [
    {
      "cell_type": "markdown",
      "metadata": {
        "id": "view-in-github",
        "colab_type": "text"
      },
      "source": [
        "<a href=\"https://colab.research.google.com/github/DamianM-prog/Math-2024-25-Winter/blob/main/analytic_geometry_lines.ipynb\" target=\"_parent\"><img src=\"https://colab.research.google.com/assets/colab-badge.svg\" alt=\"Open In Colab\"/></a>"
      ]
    },
    {
      "cell_type": "markdown",
      "source": [
        "# Analytic Geometry - Lines\n",
        "\n",
        "## 1. **Equation of a Line**\n",
        "A line in the coordinate plane can be represented by an equation. The general form of a linear equation in two variables is:\n",
        "\n",
        "### **Slope-Intercept Form:**\n",
        "\\[\n",
        "y = mx + b\n",
        "\\]\n",
        "Where:\n",
        "- \\( m \\) is the slope of the line, and\n",
        "- \\( b \\) is the y-intercept (the point where the line crosses the y-axis).\n",
        "\n",
        "### **Point-Slope Form:**\n",
        "\\[\n",
        "y - y_1 = m(x - x_1)\n",
        "\\]\n",
        "Where:\n",
        "- \\( m \\) is the slope,\n",
        "- \\( (x_1, y_1) \\) is a point on the line.\n",
        "\n",
        "### **General Form:**\n",
        "\\[\n",
        "Ax + By + C = 0\n",
        "\\]\n",
        "Where:\n",
        "- \\( A \\), \\( B \\), and \\( C \\) are constants.\n",
        "\n",
        "### **Standard Form:**\n",
        "\\[\n",
        "Ax + By = C\n",
        "\\]\n",
        "Where \\( A \\), \\( B \\), and \\( C \\) are integers, and \\( A \\geq 0 \\).\n",
        "\n",
        "## 2. **Slope of a Line**\n",
        "The slope (\\( m \\)) represents the rate of change of \\( y \\) with respect to \\( x \\). It is calculated as the difference in \\( y \\)-coordinates divided by the difference in \\( x \\)-coordinates of two points on the line:\n",
        "\\[\n",
        "m = \\frac{y_2 - y_1}{x_2 - x_1}\n",
        "\\]\n",
        "- If \\( m > 0 \\), the line rises from left to right.\n",
        "- If \\( m < 0 \\), the line falls from left to right.\n",
        "- If \\( m = 0 \\), the line is horizontal.\n",
        "- If the line is vertical, the slope is undefined.\n",
        "\n",
        "## 3. **Parallel and Perpendicular Lines**\n",
        "- **Parallel Lines:** Two lines are parallel if they have the same slope (\\( m_1 = m_2 \\)).\n",
        "- **Perpendicular Lines:** Two lines are perpendicular if the product of their slopes is \\( -1 \\) (i.e., \\( m_1 \\cdot m_2 = -1 \\)).\n",
        "\n",
        "## 4. **Finding the Equation of a Line**\n",
        "To find the equation of a line given:\n",
        "- **Two Points:** Use the point-slope form of the equation.\n",
        "    1. Find the slope \\( m \\) using the formula:\n",
        "    \\[\n",
        "    m = \\frac{y_2 - y_1}{x_2 - x_1}\n",
        "    \\]\n",
        "    2. Substitute the slope \\( m \\) and one point \\( (x_1, y_1) \\) into the point-slope form:\n",
        "    \\[\n",
        "    y - y_1 = m(x - x_1)\n",
        "    \\]\n",
        "- **Slope and One Point:** Use the point-slope form with the given slope \\( m \\) and the point \\( (x_1, y_1) \\).\n",
        "  \n",
        "## 5. **Distance Between Two Points or a vector and a point**\n",
        "The distance \\( d \\) between two points \\( (x_1, y_1) \\) and \\( (x_2, y_2) \\) is given by the distance formula:\n",
        "\\[\n",
        "d = \\sqrt{(x_2 - x_1)^2 + (y_2 - y_1)^2}\n",
        "\\]\n",
        "\n",
        "To calculate the distance between a point and a line defined by a linear equation, you can use the following formula:\n",
        "If the equation of the line is in Ax + By + C = 0 form and the point isP(x1,y1)P(x1,y1), then the distanced from the point to the line is given by:d=∣Ax1+By1+C∣A2+B2d=A2+B2​∣Ax1+By1+C∣​\n",
        "\n",
        "\n",
        "## 6. **Midpoint of a Line Segment**\n",
        "The midpoint \\( M \\) of the line segment joining two points \\( (x_1, y_1) \\) and \\( (x_2, y_2) \\) is the average of their coordinates:\n",
        "\\[\n",
        "M = \\left( \\frac{x_1 + x_2}{2}, \\frac{y_1 + y_2}{2} \\right)\n",
        "\\]\n",
        "\n",
        "## 7. **Applications of Lines in Analytic Geometry**\n",
        "- **Intersection of Two Lines:** The point of intersection of two lines is found by solving the system of equations of the lines.\n",
        "- **Angle Between Two Lines:** The angle between two lines with slopes \\( m_1 \\) and \\( m_2 \\) is given by:\n",
        "\n",
        "- tan(0) = {m_1 - m_2}/{1 + m_1m_2}\n",
        "\n",
        "\n",
        "- **Area of Triangle Formed by Three Points:** Given three points, the area of the triangle formed by these points can be found using the determinant formula."
      ],
      "metadata": {
        "id": "wXawAIFgptih"
      }
    },
    {
      "cell_type": "markdown",
      "source": [
        "Exercise 1\n",
        "\n",
        "A(1,2) B(3,4)\n",
        "\n",
        "\n",
        "y = ax + b\n",
        "\n",
        "2 = a + b\n",
        "\n",
        "4 = 3a + b\n",
        "\n",
        "2 = 2a , a = 1\n",
        "\n",
        "2 = 1 + b , b = 1\n",
        "\n",
        "y = 1x + 1"
      ],
      "metadata": {
        "id": "SufJfFlTrgdl"
      }
    },
    {
      "cell_type": "markdown",
      "source": [
        "Exercise 2\n",
        "\n",
        "A(1,2) , y = 2x + 3\n",
        "\n",
        "Parallel = a1 = a2\n",
        "\n",
        "y=2x + b\n",
        "\n",
        "2 = 2 + b , b = 0"
      ],
      "metadata": {
        "id": "Bf30hMsTtJsY"
      }
    },
    {
      "cell_type": "markdown",
      "source": [
        "Exercise 3\n",
        "\n",
        "A(1,2) y = 2x + b\n",
        "\n",
        "Perpendicular = a1 = -1/a2\n",
        "\n",
        "y = -1/2x + b\n",
        "\n",
        "2 = -1/2 * 1 + b\n",
        "\n",
        "2 = -1/2 + b , b = 5/2"
      ],
      "metadata": {
        "id": "LcbdZMzYtkwc"
      }
    },
    {
      "cell_type": "markdown",
      "source": [
        "Exercise 4\n",
        "\n",
        "y = 2x + 3\n",
        "\n",
        "y = 3x + 2\n",
        "\n",
        "tan(0) = [a2 - a1]/[1 + a1a2]\n",
        "tan(0) = [3 - 2]/[1 + 2 * 3] = 1/7\n",
        "(0) = tan^-1(1/7) = 8.13\n"
      ],
      "metadata": {
        "id": "hdFVnOqwuMbh"
      }
    },
    {
      "cell_type": "markdown",
      "source": [
        "Exercise 5\n",
        "\n",
        "A(1,2) v = [2,3]\n",
        "\n",
        "[x,y​]=[x0,​y0​​]+t[vx​,vy​​]\n",
        "\n",
        "[x,y​]=[1,2​]+t[2,3​]\n",
        "\n",
        "x=1+2t y=2+3t\n",
        "\n",
        "r(t)=[1,2​]+t[2,3​]"
      ],
      "metadata": {
        "id": "ZqUyiRFcyUg_"
      }
    },
    {
      "cell_type": "markdown",
      "source": [
        "Exercise 6\n",
        "\n",
        "y = 2x + 3\n",
        "\n",
        "Parallel = a1 = a2\n",
        "\n",
        "y = 2x + b\n",
        "\n",
        "Example: y = 2x + 4\n",
        "\n",
        "Perpendicular = a1 = 1/a2\n",
        "\n",
        "y = -1/2x + b\n",
        "\n",
        "Example: y = -1/2x + 3"
      ],
      "metadata": {
        "id": "wrlYnAM12QsR"
      }
    },
    {
      "cell_type": "markdown",
      "source": [
        "Exercise 7\n",
        "\n",
        "y = 2x + 3 , A(1,2)\n",
        "\n",
        "2x - y + 3 = 0\n",
        "\n",
        "d = I 2 * 1 + -1 * 2 + 3I/ /sqr/2^2 + 3^2/\n",
        "\n",
        "d = I2 - 2 + 3I /sqr/4+9/\n",
        "\n",
        "d = 3//sqr/13/\n",
        "\n",
        "d = 3sqr/13//13"
      ],
      "metadata": {
        "id": "SxIMvvs44Cuy"
      }
    },
    {
      "cell_type": "markdown",
      "source": [
        "Exercise 8\n",
        "\n",
        "A(2,0) B(0,3)\n",
        "\n",
        "y = ax + b\n",
        "\n",
        "0 = 2a + b\n",
        "\n",
        "3 = 0a + b\n",
        "\n",
        "-3 = 2a , a = -3/2\n",
        "\n",
        "0 = 2 * -3/2 + b\n",
        "\n",
        "0 = -3 + b , b = 3\n",
        "\n",
        "y = -3/2x + 3"
      ],
      "metadata": {
        "id": "9vd9G1bq6W-O"
      }
    },
    {
      "cell_type": "markdown",
      "source": [
        "Exercise 9\n",
        "\n",
        "y = x + 3 (x,0)\n",
        "\n",
        "a1 = 1\n",
        "\n",
        "a2 = 0\n",
        "\n",
        "tan(0) = 1 - 0 / 1 + 1 * 0\n",
        "\n",
        "tan(0) = 1 / 1 = 1\n",
        "\n",
        "0 = tan^-1(1) = 45*"
      ],
      "metadata": {
        "id": "IEmSJ5AU7Zy0"
      }
    },
    {
      "cell_type": "markdown",
      "source": [
        "x + y + 1 = 0\n",
        "\n",
        "y = -x - 1\n",
        "\n",
        "perpendicular = a1 = -1/a1\n",
        "\n",
        "y = x - 1"
      ],
      "metadata": {
        "id": "NSxS58jgGwy8"
      }
    }
  ]
}