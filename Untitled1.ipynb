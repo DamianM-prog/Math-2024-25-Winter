{
  "nbformat": 4,
  "nbformat_minor": 0,
  "metadata": {
    "colab": {
      "provenance": [],
      "authorship_tag": "ABX9TyOX+ci47hwzqOvzTcYe/d/u",
      "include_colab_link": true
    },
    "kernelspec": {
      "name": "python3",
      "display_name": "Python 3"
    },
    "language_info": {
      "name": "python"
    }
  },
  "cells": [
    {
      "cell_type": "markdown",
      "metadata": {
        "id": "view-in-github",
        "colab_type": "text"
      },
      "source": [
        "<a href=\"https://colab.research.google.com/github/DamianM-prog/Math-2024-25-Winter/blob/main/Untitled1.ipynb\" target=\"_parent\"><img src=\"https://colab.research.google.com/assets/colab-badge.svg\" alt=\"Open In Colab\"/></a>"
      ]
    },
    {
      "cell_type": "markdown",
      "source": [
        "# Second-Order Surfaces in Analytic Geometry\n",
        "\n",
        "Second-order surfaces, also known as **quadric surfaces**, are surfaces that can be represented by second-degree equations in three-dimensional space. These surfaces can be described by equations of the form:\n",
        "\n",
        "\\[\n",
        "Ax^2 + By^2 + Cz^2 + Dxy + Exz + Fyz + Gx + Hy + Iz + J = 0\n",
        "\\]\n",
        "\n",
        "Where:\n",
        "- \\( A \\), \\( B \\), \\( C \\), \\( D \\), \\( E \\), \\( F \\), \\( G \\), \\( H \\), \\( I \\), and \\( J \\) are constants.\n",
        "- \\( x \\), \\( y \\), and \\( z \\) are the coordinates in 3D space.\n",
        "\n",
        "### Types of Second-Order Surfaces\n",
        "\n",
        "Second-order surfaces can be categorized into several types based on the values of the coefficients in the equation. Some common second-order surfaces include:\n",
        "\n",
        "## 1. Ellipsoid\n",
        "An ellipsoid is a surface where all cross-sections by planes parallel to the coordinate planes are ellipses. Its equation is of the form:\n",
        "\n",
        "\\[\n",
        "\\frac{x^2}{a^2} + \\frac{y^2}{b^2} + \\frac{z^2}{c^2} = 1\n",
        "\\]\n",
        "\n",
        "Where \\( a \\), \\( b \\), and \\( c \\) are the semi-axes of the ellipsoid.\n",
        "\n",
        "### 2. Elliptic Paraboloid\n",
        "An elliptic paraboloid is a surface that opens upward or downward in the \\( z \\)-direction, and has elliptical cross-sections in planes parallel to the \\( xy \\)-plane. Its general equation is:\n",
        "\n",
        "\\[\n",
        "\\frac{x^2}{a^2} + \\frac{y^2}{b^2} = z\n",
        "\\]\n",
        "\n",
        "### 3. Hyperboloid of One Sheet\n",
        "A hyperboloid of one sheet is a surface that resembles a cooling tower of a power plant. Its equation is:\n",
        "\n",
        "\\[\n",
        "\\frac{x^2}{a^2} + \\frac{y^2}{b^2} - \\frac{z^2}{c^2} = 1\n",
        "\\]\n",
        "\n",
        "It has a hyperbolic cross-section and is symmetric about the \\( z \\)-axis.\n",
        "\n",
        "### 4. Hyperboloid of Two Sheets\n",
        "A hyperboloid of two sheets consists of two separate sheets that are connected at infinity. Its equation is:\n",
        "\n",
        "\\[\n",
        "\\frac{x^2}{a^2} + \\frac{y^2}{b^2} - \\frac{z^2}{c^2} = -1\n",
        "\\]\n",
        "\n",
        "This surface is similar to the one-sheet hyperboloid but is split into two disconnected parts.\n",
        "\n",
        "### 5. Elliptic Cone\n",
        "An elliptic cone is a surface that resembles a cone with elliptical cross-sections. Its general equation is:\n",
        "\n",
        "\\[\n",
        "\\frac{x^2}{a^2} + \\frac{y^2}{b^2} - z^2 = 0\n",
        "\\]\n",
        "\n",
        "### 6. Hyperbolic Cone\n",
        "A hyperbolic cone has hyperbolic cross-sections and is described by the equation:\n",
        "\n",
        "\\[\n",
        "\\frac{x^2}{a^2} - \\frac{y^2}{b^2} - z^2 = 0\n",
        "\\]\n",
        "\n",
        "### 7. Paraboloid of Revolution\n",
        "A paraboloid of revolution has parabolic cross-sections along one axis, and is symmetrical about that axis. Its equation is:\n",
        "\n",
        "\\[\n",
        "z = \\frac{x^2}{a^2} + \\frac{y^2}{b^2}\n",
        "\\]\n",
        "\n",
        "### 8. Sphere\n",
        "A sphere is a special case of an ellipsoid where all the axes are equal. Its equation is:\n",
        "\n",
        "\\[\n",
        "\\frac{x^2}{r^2} + \\frac{y^2}{r^2} + \\frac{z^2}{r^2} = 1\n",
        "\\]\n",
        "\n",
        "Where \\( r \\) is the radius of the sphere.\n",
        "\n",
        "### Matrix Representation\n",
        "A general second-order surface can also be represented using a **quadratic form**. The equation can be written in matrix form as:\n",
        "\n",
        "\\[\n",
        "x^T A \\vec{x} + \\vec{b}^T \\vec{x} + c = 0\n",
        "\\]\n",
        "\n",
        "Where:\n",
        "- \\( \\vec{x} = \\begin{pmatrix} x \\\\ y \\\\ z \\end{pmatrix} \\) is the position vector,\n",
        "- \\( A \\) is a symmetric matrix representing the coefficients of the quadratic terms,\n",
        "- \\( \\vec{b} \\) is a vector representing the linear terms,\n",
        "- \\( c \\) is a constant."
      ],
      "metadata": {
        "id": "BwMNjWxGPDbO"
      }
    },
    {
      "cell_type": "markdown",
      "source": [
        "Exercise 1\n",
        "\n",
        "(x−x0​)2+(y−y0​)2+(z−z0​)2=r2\n",
        "\n",
        "(x−1)2+(y−2)2+(z−3)2=9"
      ],
      "metadata": {
        "id": "pEx65_n6PrlA"
      }
    },
    {
      "cell_type": "markdown",
      "source": [
        "Exercise 2\n",
        "\n",
        "Both spheres have the same center at the origin, but they have different radii. The first sphere has a radius of 1, and the second sphere has a radius of\n",
        "2.\n",
        "\n",
        "Conclusion: They dont have common points."
      ],
      "metadata": {
        "id": "Z8OZijDzP7CJ"
      }
    },
    {
      "cell_type": "markdown",
      "source": [
        "Exercise 3\n",
        "\n",
        "(x−1)2+y^2+z^2=1\n",
        "\n",
        "(x^2−2x+1)+y^2+z^2=1\n",
        "\n",
        "x^2+y^2+z^2−2x+1=1\n",
        "\n",
        "x^2+y^2+z^2−2x=0\n",
        "\n",
        "(x2+y2+z2)−(x2+y2+z2−2x)=1−0\n",
        "\n",
        "x2+y2+z2−x2−y2−z2+2x=1\n",
        "\n",
        "2x = 1\n",
        "\n",
        "x = 1/2\n",
        "\n",
        "(1/2​)^2+y^2+z^2=1\n",
        "\n",
        "1/4 + y^2 + z^2 = 1\n",
        "\n",
        "y^2+z^2=1-1/4\n",
        "\n",
        "y^2+z^2=3/4"
      ],
      "metadata": {
        "id": "UPyKsG5vQYhe"
      }
    },
    {
      "cell_type": "markdown",
      "source": [
        "Exercise 4\n",
        "\n",
        "fx​(x,y)=∂/∂x​((x−1)2+y2+1)\n",
        "\n",
        "fx​(x,y)=2(x−1)\n",
        "\n",
        "fy​(x,y)=∂/∂y​((x−1)2+y2+1)\n",
        "\n",
        "fy​(x,y)=2y\n",
        "\n",
        "fx​(1,0)=2(1−1)=0\n",
        "\n",
        "fy​(1,0)=2(0)=0\n",
        "\n",
        "z−z0​=fx​(x0​,y0​)(x−x0​)+fy​(x0​,y0​)(y−y0​)\n",
        "\n",
        "z−1=0(x−1)+0(y−0)\n",
        "\n",
        "z - 1 = 0\n",
        "\n",
        "z = 1\n",
        "\n",
        "z−z0​=fx​(x0​,y0​)(x−x0​)+fy​(x0​,y0​)(y−y0​)\n",
        "\n",
        "z−1=0(x−1)+0(y−0)\n",
        "\n",
        "z−1=0\n",
        "\n",
        "z=1"
      ],
      "metadata": {
        "id": "JICpZaxHecjx"
      }
    }
  ]
}